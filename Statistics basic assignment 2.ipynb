{
 "cells": [
  {
   "cell_type": "code",
   "execution_count": 1,
   "id": "455e20ce-5112-4669-afc4-e6aa44a2853d",
   "metadata": {},
   "outputs": [],
   "source": [
    "# Q1. What are the three measures of central tendency?"
   ]
  },
  {
   "cell_type": "code",
   "execution_count": 2,
   "id": "99f52d14-a141-4f42-8998-37082afcca0b",
   "metadata": {},
   "outputs": [],
   "source": [
    "# Three measures of central tendency are Mean, Meadian and Mode"
   ]
  },
  {
   "cell_type": "code",
   "execution_count": 3,
   "id": "00eaf2c9-af4f-403c-84c1-364acf22999e",
   "metadata": {},
   "outputs": [],
   "source": [
    "# Q2. What is the difference between the mean, median, and mode? How are they used to measure the\n",
    "# central tendency of a dataset?"
   ]
  },
  {
   "cell_type": "code",
   "execution_count": 4,
   "id": "fc3ae82b-05e3-4c30-9176-fe266c3635ea",
   "metadata": {},
   "outputs": [],
   "source": [
    "# Mean: gives average of data values\n",
    "# Median: gives “middle value” or the average of “middle two values” in a data set when the numbers are arranged in an order. \n",
    "# Mode: gives value that occurs with greatest frequency."
   ]
  },
  {
   "cell_type": "code",
   "execution_count": 13,
   "id": "6ecf6cd4-576b-4c65-a46e-a25a7393fcb2",
   "metadata": {},
   "outputs": [],
   "source": [
    "# eg. \n",
    "mark = [35, 56, 78, 69, 45, 98, 56, 69, 69] "
   ]
  },
  {
   "cell_type": "code",
   "execution_count": 15,
   "id": "43af00ac-9be2-4f20-97f6-ce1d1d3abf17",
   "metadata": {},
   "outputs": [
    {
     "data": {
      "text/plain": [
       "63.888888888888886"
      ]
     },
     "execution_count": 15,
     "metadata": {},
     "output_type": "execute_result"
    }
   ],
   "source": [
    "# Mean: gives average of data values\n",
    "(35+56+56+78+45+98+69+69+69)/9"
   ]
  },
  {
   "cell_type": "code",
   "execution_count": 16,
   "id": "499002a7-3ecc-457c-8e50-b036fef1b8ec",
   "metadata": {},
   "outputs": [],
   "source": [
    "# for median, first arrange the set in ascending order and since the total no. of marks is odd, \n",
    "# we will take middle no as a median\n",
    "# list of marks after arranging in scending order\n",
    "# marks = [35, 45, 56, 56, 69, 69,69, 78, 98]"
   ]
  },
  {
   "cell_type": "code",
   "execution_count": 17,
   "id": "8090e6f1-55af-4a60-bd1c-2b89d628c5c6",
   "metadata": {},
   "outputs": [
    {
     "data": {
      "text/plain": [
       "69"
      ]
     },
     "execution_count": 17,
     "metadata": {},
     "output_type": "execute_result"
    }
   ],
   "source": [
    "# median \n",
    "69"
   ]
  },
  {
   "cell_type": "code",
   "execution_count": 18,
   "id": "08f366e6-4d54-4386-992f-c60bfd51d044",
   "metadata": {},
   "outputs": [],
   "source": [
    "# mode = since 69 has the highest frequency, mode is 69"
   ]
  },
  {
   "cell_type": "code",
   "execution_count": 19,
   "id": "367a3b19-bf2d-4034-93a0-224881cf8f26",
   "metadata": {},
   "outputs": [],
   "source": [
    "# Q3. Measure the three measures of central tendency for the given height data:\n",
    "height = [178,177,176,177,178.2,178,175,179,180,175,178.9,176.2,177,172.5,178,176.5]"
   ]
  },
  {
   "cell_type": "code",
   "execution_count": 21,
   "id": "53eaabcf-723f-4314-8f7e-c82c897542d1",
   "metadata": {},
   "outputs": [
    {
     "data": {
      "text/plain": [
       "177.01875"
      ]
     },
     "execution_count": 21,
     "metadata": {},
     "output_type": "execute_result"
    }
   ],
   "source": [
    "import numpy as np\n",
    "mean = np.mean(height)\n",
    "mean"
   ]
  },
  {
   "cell_type": "code",
   "execution_count": 22,
   "id": "069fbbd2-f9e3-430d-9ed5-05f07ff93d36",
   "metadata": {},
   "outputs": [
    {
     "data": {
      "text/plain": [
       "177.0"
      ]
     },
     "execution_count": 22,
     "metadata": {},
     "output_type": "execute_result"
    }
   ],
   "source": [
    "median = np.median(height)\n",
    "median"
   ]
  },
  {
   "cell_type": "code",
   "execution_count": 24,
   "id": "07bc35d2-c7e1-4c75-9208-ba7073da6faf",
   "metadata": {},
   "outputs": [
    {
     "name": "stderr",
     "output_type": "stream",
     "text": [
      "/tmp/ipykernel_113/3567273881.py:3: FutureWarning: Unlike other reduction functions (e.g. `skew`, `kurtosis`), the default behavior of `mode` typically preserves the axis it acts along. In SciPy 1.11.0, this behavior will change: the default value of `keepdims` will become False, the `axis` over which the statistic is taken will be eliminated, and the value None will no longer be accepted. Set `keepdims` to True or False to avoid this warning.\n",
      "  stats.mode(height)\n"
     ]
    },
    {
     "data": {
      "text/plain": [
       "ModeResult(mode=array([177.]), count=array([3]))"
      ]
     },
     "execution_count": 24,
     "metadata": {},
     "output_type": "execute_result"
    }
   ],
   "source": [
    "# import stat module from scipy library\n",
    "from scipy import stats\n",
    "stats.mode(height)"
   ]
  },
  {
   "cell_type": "code",
   "execution_count": 25,
   "id": "35660722-72d3-4c65-a7d6-3e9eb369b245",
   "metadata": {},
   "outputs": [],
   "source": [
    "# mode result is 177"
   ]
  },
  {
   "cell_type": "code",
   "execution_count": 33,
   "id": "b8d6b868-6f31-455b-be3f-7ff6f3911ffa",
   "metadata": {},
   "outputs": [],
   "source": [
    "# Q4. Find the standard deviation for the given data:\n",
    "height1 = [178,177,176,177,178.2,178,175,179,180,175,178.9,176.2,177,172.5,178,176.5]"
   ]
  },
  {
   "cell_type": "code",
   "execution_count": 32,
   "id": "ea72e0e3-90c4-44a5-a4c2-70d497170b25",
   "metadata": {},
   "outputs": [],
   "source": [
    "# variance and std functions are available in numpy library, hence importing\n",
    "import numpy as np"
   ]
  },
  {
   "cell_type": "code",
   "execution_count": 34,
   "id": "85612d38-e78d-42a1-a61e-7b24e9a5c375",
   "metadata": {},
   "outputs": [
    {
     "data": {
      "text/plain": [
       "3.199023437500001"
      ]
     },
     "execution_count": 34,
     "metadata": {},
     "output_type": "execute_result"
    }
   ],
   "source": [
    "var = np.var(height1)\n",
    "var"
   ]
  },
  {
   "cell_type": "code",
   "execution_count": 35,
   "id": "11f1c3c7-2f63-4275-803b-d1ec17118a24",
   "metadata": {},
   "outputs": [
    {
     "data": {
      "text/plain": [
       "1.7885814036548633"
      ]
     },
     "execution_count": 35,
     "metadata": {},
     "output_type": "execute_result"
    }
   ],
   "source": [
    "std = np.std(height1)\n",
    "std"
   ]
  },
  {
   "cell_type": "code",
   "execution_count": 36,
   "id": "3bf6986f-d7ec-40b4-a8c8-06e669a81833",
   "metadata": {},
   "outputs": [],
   "source": [
    "# Q5. How are measures of dispersion such as range, variance, and standard deviation used to describe\n",
    "# the spread of a dataset? Provide an example."
   ]
  },
  {
   "cell_type": "code",
   "execution_count": 2,
   "id": "496fadb4-a66f-4c86-b5bf-0ed3a0eaef4b",
   "metadata": {},
   "outputs": [],
   "source": [
    "# The measures of central tendency are not adequate to describe data. \n",
    "# Two data sets can have the same mean but they can be entirely different. \n",
    "# Thus to describe data, one needs to know the extent of variability. This is given by the measures of dispersion. "
   ]
  },
  {
   "cell_type": "code",
   "execution_count": 3,
   "id": "1d42c374-f820-4c9e-be46-bc96751edb56",
   "metadata": {},
   "outputs": [],
   "source": [
    "# Measure of variation shows the dispersion among data values.\n",
    "# The following parameters help us to get information on the extent of the data set.\n",
    "# Variance: It gives you the overall spread of the data, more the value of variance, the data spread is larger.\n",
    "# Standard deviation: It is a measure of how much data values are deviated away from mean and it is \n",
    "# sqrt of variance.\n",
    "# Range: difference between the maximum value and the minimum value in a data set"
   ]
  },
  {
   "cell_type": "code",
   "execution_count": 15,
   "id": "aff0eb27-58de-400d-8cb5-e82a7cb1c727",
   "metadata": {},
   "outputs": [],
   "source": [
    "# eg.\n",
    "set1 = [1,2,3,4,5]\n",
    "# mean of the sample data set is 3.\n",
    "# With the mean, we can calculate variance as 2.0 and \n",
    "# standard deviation is sqrt of variance."
   ]
  },
  {
   "cell_type": "code",
   "execution_count": 7,
   "id": "82a7c318-6ccc-4d35-afb8-e79cff94ecf9",
   "metadata": {},
   "outputs": [],
   "source": [
    "import numpy as np\n"
   ]
  },
  {
   "cell_type": "code",
   "execution_count": 16,
   "id": "7350df6d-5f78-449b-afa1-cdeea56fd89f",
   "metadata": {},
   "outputs": [
    {
     "data": {
      "text/plain": [
       "3.0"
      ]
     },
     "execution_count": 16,
     "metadata": {},
     "output_type": "execute_result"
    }
   ],
   "source": [
    "mean = np.mean(set1)\n",
    "mean"
   ]
  },
  {
   "cell_type": "code",
   "execution_count": 17,
   "id": "9ead3f84-0639-4ea9-9ca8-24efd1d93534",
   "metadata": {},
   "outputs": [
    {
     "data": {
      "text/plain": [
       "2.0"
      ]
     },
     "execution_count": 17,
     "metadata": {},
     "output_type": "execute_result"
    }
   ],
   "source": [
    "var = np.var(set1)\n",
    "var"
   ]
  },
  {
   "cell_type": "code",
   "execution_count": 18,
   "id": "1d59d17f-f533-40de-9252-81675a65997d",
   "metadata": {},
   "outputs": [
    {
     "data": {
      "text/plain": [
       "1.4142135623730951"
      ]
     },
     "execution_count": 18,
     "metadata": {},
     "output_type": "execute_result"
    }
   ],
   "source": [
    "std = np.std(set1)\n",
    "std"
   ]
  },
  {
   "cell_type": "code",
   "execution_count": 19,
   "id": "3f514a94-a5fd-47e8-845d-53d0f5b1308e",
   "metadata": {},
   "outputs": [],
   "source": [
    "# Q6. What is a Venn diagram?"
   ]
  },
  {
   "cell_type": "code",
   "execution_count": 20,
   "id": "024089e2-d310-4486-99d4-f717fe2cde92",
   "metadata": {},
   "outputs": [],
   "source": [
    "# Venn diagrams are the diagrams that are used to represent the sets, relation between the sets \n",
    "# and operation performed on them, in a pictorial way. "
   ]
  },
  {
   "cell_type": "code",
   "execution_count": 21,
   "id": "e8cd2d69-ebbb-4d88-92fc-7ab043e8f424",
   "metadata": {},
   "outputs": [],
   "source": [
    "# Q7. For the two given sets A = (2,3,4,5,6,7) & B = (0,2,6,8,10). Find:\n",
    "# (i) A intersection B\n",
    "# (ii) A ⋃ B"
   ]
  },
  {
   "cell_type": "code",
   "execution_count": 22,
   "id": "a7291508-285f-4a0e-b650-08bbc9f3ea18",
   "metadata": {},
   "outputs": [],
   "source": [
    "# (i) A intersection B = {2, 6}\n",
    "# (ii) A ⋃ B = {0,2,3,4,5,6,7,8,10}"
   ]
  },
  {
   "cell_type": "code",
   "execution_count": 23,
   "id": "1ec1554c-027e-48ec-8f43-2b457e9d5588",
   "metadata": {},
   "outputs": [],
   "source": [
    "# Q8. What do you understand about skewness in data?"
   ]
  },
  {
   "cell_type": "code",
   "execution_count": 27,
   "id": "3d617750-8656-426b-8441-d31f35c1f3b0",
   "metadata": {},
   "outputs": [],
   "source": [
    "# Skewness is a measurement of the distortion of symmetrical distribution. \n",
    "# if the bell curve is not perfectly symmetrical at it's mean then it is either right skewed or left skewed\n",
    "# Negative values for the skewness indicate data that are skewed left (i.e left tail of a bell curve is long relative to the right tail.)  \n",
    "# positive values for the skewness indicate data that are skewed right (i.e right tail of a bell curve is long relative to the left tail.)"
   ]
  },
  {
   "cell_type": "code",
   "execution_count": 28,
   "id": "ac28cf41-788d-4154-9585-8073477c2958",
   "metadata": {},
   "outputs": [],
   "source": [
    "# Q9. If a data is right skewed then what will be the position of median with respect to mean?"
   ]
  },
  {
   "cell_type": "code",
   "execution_count": 29,
   "id": "bfe2d952-75ba-4889-9d40-9df8cbbda2d5",
   "metadata": {},
   "outputs": [],
   "source": [
    "# For a right skewed data, mean > median > mode"
   ]
  },
  {
   "cell_type": "code",
   "execution_count": 30,
   "id": "b025f04c-895c-4a2f-b2cf-0ab520e87b62",
   "metadata": {},
   "outputs": [],
   "source": [
    "# Q10. Explain the difference between covariance and correlation. How are these measures used in\n",
    "# statistical analysis?"
   ]
  },
  {
   "cell_type": "code",
   "execution_count": 52,
   "id": "72a2ad1e-4e88-47e9-a91b-43951d5e24a1",
   "metadata": {},
   "outputs": [],
   "source": [
    "# Covariance is a measure of how two variables vary together, while variance is a measure of how a single variable varies.\n",
    "# Correlation is a measure of the strength of the relationship between two variables."
   ]
  },
  {
   "cell_type": "code",
   "execution_count": 53,
   "id": "6e6b9411-2ae7-4bb9-8052-f5d16c7c8f99",
   "metadata": {},
   "outputs": [],
   "source": [
    "# In statistical analysis, while working on any problem statement, we may come across data set having numerous features.\n",
    "# However, while working, we don't have to take all features. \n",
    "# with the help of Covariance , we can decide whether two variables fluctuate in the same (+ve covariance) or opposite direction (-ve covariance). \n",
    "# and with the help of correlation, we can describe how a change in one variable leads to a change in the percentage of the second variable. \n",
    "# Correlation ranges from -1 to +1. If the correlation value is 0, it suggests that there is no link between the variables and such parameters can be dropped during analysis"
   ]
  },
  {
   "cell_type": "code",
   "execution_count": 33,
   "id": "ad70debe-d0b8-4a3f-a728-605835e44402",
   "metadata": {},
   "outputs": [],
   "source": [
    "# Q11. What is the formula for calculating the sample mean? Provide an example calculation for a dataset."
   ]
  },
  {
   "cell_type": "code",
   "execution_count": 34,
   "id": "3b0ae7fd-34ac-4ddb-9cd8-903c2b8befad",
   "metadata": {},
   "outputs": [],
   "source": [
    "# sample mean (s) = summation of all data points in the data set / total no. of data points in a sample"
   ]
  },
  {
   "cell_type": "code",
   "execution_count": 35,
   "id": "320598a1-5e9d-481f-907c-a774a7b23935",
   "metadata": {},
   "outputs": [],
   "source": [
    "# eg. \n",
    "marks = [35, 56, 78, 69, 45, 98, 56, 69, 69] "
   ]
  },
  {
   "cell_type": "code",
   "execution_count": 36,
   "id": "50be933e-1b7c-4cf6-92c6-04fbe01b2826",
   "metadata": {},
   "outputs": [
    {
     "data": {
      "text/plain": [
       "63.888888888888886"
      ]
     },
     "execution_count": 36,
     "metadata": {},
     "output_type": "execute_result"
    }
   ],
   "source": [
    "# Mean: gives average of data values\n",
    "(35+56+56+78+45+98+69+69+69)/9"
   ]
  },
  {
   "cell_type": "code",
   "execution_count": 37,
   "id": "526c6f93-50e9-4334-a71b-044e997dc02c",
   "metadata": {},
   "outputs": [],
   "source": [
    "# Q12. For a normal distribution data what is the relationship between its measure of central tendency?"
   ]
  },
  {
   "cell_type": "code",
   "execution_count": 54,
   "id": "5e20c772-87bc-49aa-b43a-183929e52054",
   "metadata": {},
   "outputs": [],
   "source": [
    "# For a normal/symmertical distribution, the relationship between its measure of central tendency is \n",
    "# mean = median = mode and all of them are perfectly at the centre of the bell curve."
   ]
  },
  {
   "cell_type": "code",
   "execution_count": 42,
   "id": "684d4a7d-a9b8-4479-8cf9-5896cc383df8",
   "metadata": {},
   "outputs": [],
   "source": [
    "# Q13. How is covariance different from correlation?"
   ]
  },
  {
   "cell_type": "code",
   "execution_count": 41,
   "id": "08f3f0a9-f310-4309-ad34-2a87a36d58a4",
   "metadata": {},
   "outputs": [],
   "source": [
    "# Covariance is a measure of how two variables vary together whereas Correlation is a measure of the strength of the relationship between two variables.\n",
    "# Covariance doesn't have any specific limit value but correlation value ranges from -1 to 1"
   ]
  },
  {
   "cell_type": "code",
   "execution_count": 43,
   "id": "714aa279-b369-4bfb-b3e4-4c5eab686368",
   "metadata": {},
   "outputs": [],
   "source": [
    "# Q14. How do outliers affect measures of central tendency and dispersion? Provide an example."
   ]
  },
  {
   "cell_type": "code",
   "execution_count": 46,
   "id": "83491bae-28a7-425b-9d7d-7e3998e01ced",
   "metadata": {},
   "outputs": [],
   "source": [
    "# Outliers are those data points which are absurd(i.e.much greater than or much less than most of the other values in a data set)values in the dataset \n",
    "# An outlier would give misleading impression about the data set\n",
    "# It would change the mean values of the data points"
   ]
  },
  {
   "cell_type": "code",
   "execution_count": 44,
   "id": "171fa199-94f8-45c7-a149-c1bf13a93848",
   "metadata": {},
   "outputs": [],
   "source": [
    "ages = [23, 13, 7, 56, 25, 66, 65]"
   ]
  },
  {
   "cell_type": "code",
   "execution_count": 48,
   "id": "e7dc43d5-01b5-489d-9cac-d7b4a5c20ccd",
   "metadata": {},
   "outputs": [
    {
     "data": {
      "text/plain": [
       "36.42857142857143"
      ]
     },
     "execution_count": 48,
     "metadata": {},
     "output_type": "execute_result"
    }
   ],
   "source": [
    "import numpy as np\n",
    "mean = np.mean(ages)\n",
    "mean"
   ]
  },
  {
   "cell_type": "code",
   "execution_count": 49,
   "id": "b5c5115d-27cf-48ef-9e14-a48b36fdbdc8",
   "metadata": {},
   "outputs": [],
   "source": [
    "# now we add one outlier and change the data set as follows:\n",
    "ages = [23, 13, 7, 56, 25, 66, 65, 200]"
   ]
  },
  {
   "cell_type": "code",
   "execution_count": 50,
   "id": "f56fc544-f220-4407-a786-5c7bb76cb3d0",
   "metadata": {},
   "outputs": [
    {
     "data": {
      "text/plain": [
       "56.875"
      ]
     },
     "execution_count": 50,
     "metadata": {},
     "output_type": "execute_result"
    }
   ],
   "source": [
    "mean = np.mean(ages)\n",
    "mean"
   ]
  },
  {
   "cell_type": "code",
   "execution_count": 51,
   "id": "46169d29-d82c-4fc3-8472-f82f26dc484d",
   "metadata": {},
   "outputs": [],
   "source": [
    "# average/mean of the data set doubled just by having one outlier and it gives wrong summary of the data set"
   ]
  },
  {
   "cell_type": "code",
   "execution_count": null,
   "id": "61b20d0d-acc7-46af-88e0-1177fecab496",
   "metadata": {},
   "outputs": [],
   "source": []
  }
 ],
 "metadata": {
  "kernelspec": {
   "display_name": "Python 3 (ipykernel)",
   "language": "python",
   "name": "python3"
  },
  "language_info": {
   "codemirror_mode": {
    "name": "ipython",
    "version": 3
   },
   "file_extension": ".py",
   "mimetype": "text/x-python",
   "name": "python",
   "nbconvert_exporter": "python",
   "pygments_lexer": "ipython3",
   "version": "3.10.8"
  }
 },
 "nbformat": 4,
 "nbformat_minor": 5
}
