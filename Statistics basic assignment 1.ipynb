{
 "cells": [
  {
   "cell_type": "code",
   "execution_count": 1,
   "id": "ca34989e-edc7-4495-b05e-d3939255419a",
   "metadata": {},
   "outputs": [],
   "source": [
    "# Q1. What is Statistics?"
   ]
  },
  {
   "cell_type": "code",
   "execution_count": 3,
   "id": "4776ad77-2876-4ed3-818f-92b08686d1d5",
   "metadata": {},
   "outputs": [],
   "source": [
    "# Statistics is the science of collecting, organizing, analysing, interpreting and presenting the data."
   ]
  },
  {
   "cell_type": "code",
   "execution_count": 4,
   "id": "a3cf5ed7-f861-416c-93d2-26fe42093595",
   "metadata": {},
   "outputs": [],
   "source": [
    "# Q2. Define the different types of statistics and give an example of when each type might be used."
   ]
  },
  {
   "cell_type": "code",
   "execution_count": 6,
   "id": "a5537ddd-7bd2-4b38-80b9-84afdcb44ec1",
   "metadata": {},
   "outputs": [],
   "source": [
    "# Two types of statistics - 1. Descriptive statistics 2. Inferential Statistics\n",
    "\n",
    "# 1. Descriptive statistics - is the one which consists of organizing and summerizing the data.\n",
    "# It is a measure of central tendancies such as mean, median and mode and \n",
    "# it also tells us how well the data is spead giving the measurement of Dispersion\n",
    "# it is represented in the form of histograms, pie charts, barcharts etc.\n",
    "# eg. in a particular school, with the help of descriptive stats, we can find out what is the average height, weight\n",
    "# etc. type of parameters of the students.\n",
    "\n",
    "# 2. Inferential Statistics - is the one in which the data which has been collected is used to form CONCLUSION\n",
    "# The conclusion is generally drawn based on the sample data collected and then various tests are performed \n",
    "# depending on the probelm statement.(tests like Z-test, t - test, hypothesis testing etc.)\n",
    "# eg. in a given classroom, is the weight of girls/boys of a particular grade similar to what you expect\n",
    "# in the entire town ? such questions/conclusions can be drawn with the help of inferential statistics"
   ]
  },
  {
   "cell_type": "code",
   "execution_count": 7,
   "id": "c4c99857-1323-4d13-9687-659c9aadd8c2",
   "metadata": {},
   "outputs": [],
   "source": [
    "# Q3. What are the different types of data and how do they differ from each other? Provide an example of each type of data."
   ]
  },
  {
   "cell_type": "code",
   "execution_count": 1,
   "id": "8b26f545-4845-4bd2-98cd-24162c5efe39",
   "metadata": {},
   "outputs": [],
   "source": [
    "# Two main types: Quantitative and Qualitative  \n",
    "\n",
    "# 1. Quantitative- mainly numerical data where all arithmatic operations (eg. +, -, /, *, % etc.) can be performed\n",
    "# It is further divided into two types: Discrete  and Continuous type\n",
    "# Discrete data type is mainly whole nos. and has got specific range\n",
    "# eg. no. of employees in an organization, no. of students in a school\n",
    "# Continuous type - it has any value i.e int, float etc. \n",
    "# eg. weights, heights, temperatures, speed etc.\n",
    "\n",
    "# 2.Qualitative - also known as categorical type of data and it has fixed set of categories\n",
    "# It is further divided into Nominal and Ordinal type\n",
    "# Nominal - it doesn't provide any numerical value and it cannot be ordered and measured.  \n",
    "# eg. gender - M/F, colours, lables etc.\n",
    "# Ordinal - It is a type where we can assign the ranks but the difference between the data values is not determined. \n",
    "# eg. Customer satsfaction index - Good, Bad, Satisfactory or Performance of an APP - Good/Satisfactory/Bad\n"
   ]
  },
  {
   "cell_type": "code",
   "execution_count": 10,
   "id": "ece71600-3eba-4f1e-9a47-5b064e84aaa7",
   "metadata": {},
   "outputs": [],
   "source": [
    "# Q4. Categorise the following datasets with respect to quantitative and qualitative data types:"
   ]
  },
  {
   "cell_type": "code",
   "execution_count": 9,
   "id": "3c2a6fd2-0b0b-4497-86d7-72fba4dd92cb",
   "metadata": {},
   "outputs": [],
   "source": [
    "# (i) Grading in exam: A+, A, B+, B, C+, C, D, E - Qualitative - Ordinal type"
   ]
  },
  {
   "cell_type": "code",
   "execution_count": 8,
   "id": "38796aef-cc1a-42f8-b640-8182f78a6fd0",
   "metadata": {},
   "outputs": [],
   "source": [
    "# (ii) Colour of mangoes: yellow, green, orange, red - Qualitative - Nominal type"
   ]
  },
  {
   "cell_type": "code",
   "execution_count": 7,
   "id": "c7120e93-6710-409c-8b7e-07c46f7d4af8",
   "metadata": {},
   "outputs": [],
   "source": [
    "# (iii) Height data of a class: [178.9, 179, 179.5, 176, 177.2, 178.3, 175.8,...] - Quantitative -Continuous type"
   ]
  },
  {
   "cell_type": "code",
   "execution_count": 6,
   "id": "7bd9cb5c-aebb-4a13-a6b4-7360421995b0",
   "metadata": {},
   "outputs": [],
   "source": [
    "# (iv) Number of mangoes exported by a farm: [500, 600, 478, 672, ...] - Quantitative - Discrete type"
   ]
  },
  {
   "cell_type": "code",
   "execution_count": 11,
   "id": "2c8391fd-964e-4ff0-a34b-4431c90d34cf",
   "metadata": {},
   "outputs": [],
   "source": [
    "# Q5. Explain the concept of levels of measurement and give an example of a variable for each level."
   ]
  },
  {
   "cell_type": "code",
   "execution_count": 2,
   "id": "508b0720-eaa0-4c5e-80d5-d14cae275d95",
   "metadata": {},
   "outputs": [],
   "source": [
    "# \"levels of measurement\" of a variable, a measure, or a scale is to distinguish between measured variables \n",
    "# that have different properties. \n",
    "# There are four basic levels: nominal scale data, ordinal scale data, interval scale data, and ratio scale data.\n",
    "# 1. nominal scale data - Highlights are as follows:\n",
    "# It is a qualitative categorical variable\n",
    "# Order doesn't matter and the ranks can not be done\n",
    "# eg. colours, gender, lables etc.\n",
    "\n",
    "# 2. ordinal scale data - \n",
    "# Ranking and order matters\n",
    "# difference between the ranks can not be measured\n",
    "# eg. ranking based on qualifications viz. phD ranked 1st, BE ranked 2nd etc..\n",
    "\n",
    "# 3. Interval scale Data\n",
    "# The ranks and orders (ascending /descending) matters\n",
    "# Difference bewteen the rank can be measured. \n",
    "# Ratio can not be measured (meaningless) and\n",
    "# It doesn't have zero starting value\n",
    "# eg. tempeartures measured 30F, 50F, 70F, 90F etc. In such cases, the data can be arranged \n",
    "# either in ascending/descending order. Thereafter, ranking, differnce between the ranks can be worked out.\n",
    "\n",
    "# 4 Ratio scale data\n",
    "# Order and rank matters\n",
    "# differences are measureable\n",
    "# ratios are relatable & meaningful and are measurable.\n",
    "# It does have a zero starting value.\n",
    "# eg. legths of rivers, speed in km/hr\n"
   ]
  },
  {
   "cell_type": "code",
   "execution_count": 3,
   "id": "0ec09e88-51cb-45c7-a5c7-9ac4de9df08f",
   "metadata": {},
   "outputs": [],
   "source": [
    "# Q6. Why is it important to understand the level of measurement when analyzing data? Provide an\n",
    "# example to illustrate your answer."
   ]
  },
  {
   "cell_type": "code",
   "execution_count": 4,
   "id": "e7104b7e-27e9-4be5-a0b9-e9d1a2cc15a8",
   "metadata": {},
   "outputs": [],
   "source": [
    "# It is because the level of measurement determines the type of statistical analysis that can be conducted, and, \n",
    "# therefore, the type of conclusions that can be drawn from the research."
   ]
  },
  {
   "cell_type": "code",
   "execution_count": 5,
   "id": "d8f343c5-f377-4fe0-9b2c-0319475fc653",
   "metadata": {},
   "outputs": [],
   "source": [
    "# eg. You can measure the variable of income at an ordinal or ratio level.\n",
    "# Ordinal level: You create brackets of income ranges: 0–19,999, 20,000–39,999, and 40,000–69,999. \n",
    "# You ask participants to select the bracket that represents their annual income. \n",
    "# The brackets are coded with numbers from 1–3.\n",
    "\n",
    "# Ratio level: You collect data on the exact annual incomes of your participants.\n",
    "\n",
    "# At a ratio level, you can see that the difference between participant's incomes.\n",
    "# At an ordinal level, however, you only know the income bracket for each participant, not their exact income. \n",
    "# Since you cannot say exactly how much each income differs from the others in your data set, \n",
    "# you can only order the income levels and group the participants."
   ]
  },
  {
   "cell_type": "code",
   "execution_count": 6,
   "id": "00cd9bdb-1c7f-45ce-9c0e-bfa708944c3b",
   "metadata": {},
   "outputs": [],
   "source": [
    "# Q7. How nominal data type is different from ordinal data type."
   ]
  },
  {
   "cell_type": "code",
   "execution_count": 7,
   "id": "cb155e5e-6559-4c7f-ba70-fe481973e491",
   "metadata": {},
   "outputs": [],
   "source": [
    "# both are Quantitative Data types. However, their difference is highlighted below:\n",
    "# Nominal - it doesn't provide any numerical value and it cannot be ordered and measured.  \n",
    "# eg. gender - M/F, colours, lables etc.\n",
    "# Ordinal - It is a type where we can assign the ranks but the difference between the data values is not determined. \n",
    "# eg. Customer satsfaction index - Good, Bad, Satisfactory or Performance of an APP - Good/Satisfactory/Bad"
   ]
  },
  {
   "cell_type": "code",
   "execution_count": 8,
   "id": "055c389c-e24d-4884-9d0b-cc37b6633900",
   "metadata": {},
   "outputs": [],
   "source": [
    "# Q8. Which type of plot can be used to display data in terms of range?"
   ]
  },
  {
   "cell_type": "code",
   "execution_count": 1,
   "id": "5368f04c-22f3-4d07-af97-58b5e36592a0",
   "metadata": {},
   "outputs": [],
   "source": [
    "# Histogram or a bar chart can be used to display data in terms of range"
   ]
  },
  {
   "cell_type": "code",
   "execution_count": 2,
   "id": "9dc246e0-35af-452e-93a9-245419c6019b",
   "metadata": {},
   "outputs": [],
   "source": [
    "# Q9. Describe the difference between descriptive and inferential statistics. Give an example of each\n",
    "# type of statistics and explain how they are used."
   ]
  },
  {
   "cell_type": "code",
   "execution_count": 3,
   "id": "1d4b4029-7189-4e1f-96c7-e497609ae5e6",
   "metadata": {},
   "outputs": [],
   "source": [
    "# Differences between descriptive and inferential statistics:\n",
    "\n",
    "# 1. Descriptive statistics - is the one which consists of organizing and summerizing the data.\n",
    "# It is a measure of central tendancies such as mean, median and mode and \n",
    "# it also tells us how well the data is spead giving the measurement of Dispersion\n",
    "# it is represented in the form of histograms, pie charts, barcharts etc.\n",
    "# eg. in a particular school, with the help of descriptive stats, we can find out what is the average height, weight\n",
    "# etc. type of parameters of the students.\n",
    "\n",
    "# 2. Inferential Statistics - is the one in which the data which has been collected is used to form CONCLUSION\n",
    "# The conclusion is generally drawn based on the sample data collected and then various tests are performed \n",
    "# depending on the probelm statement.(tests like Z-test, t - test, hypothesis testing etc.)\n",
    "# eg. in a given classroom, is the weight of girls/boys of a particular grade similar to what you expect\n",
    "# in the entire town ? such questions/conclusions can be drawn with the help of inferential statistics"
   ]
  },
  {
   "cell_type": "code",
   "execution_count": 5,
   "id": "0b081409-2c22-41ab-ad0a-a0990710adcc",
   "metadata": {},
   "outputs": [],
   "source": [
    "# Q10. What are some common measures of central tendency and variability used in statistics? \n",
    "# Explain how each measure can be used to describe a dataset."
   ]
  },
  {
   "cell_type": "code",
   "execution_count": 7,
   "id": "3b96dc92-3e96-4f19-acb5-df43f89d3b4f",
   "metadata": {},
   "outputs": [],
   "source": [
    "# Central tendency and variation are two measures used in statistics to summarize data. "
   ]
  },
  {
   "cell_type": "code",
   "execution_count": 9,
   "id": "0fa2b872-87d3-414f-8866-4d2efb12e1b7",
   "metadata": {},
   "outputs": [],
   "source": [
    "# Measure of central tendency shows where the center or middle of the data set is located.\n",
    "# common measures of central tendency - Mean, Median and Mode\n",
    "# Mean: gives average of data values\n",
    "# Median: gives “middle value” or the average of “middle two values” in a data set when the numbers are arranged in an order. \n",
    "# Mode: gives value that occurs with greatest frequency.\n",
    "\n",
    "# Measure of variation shows the dispersion among data values.\n",
    "# Standard deviation: measure of how much data values are deviated away from mean. \n",
    "# Variance: square of the standard deviation.\n",
    "# Range: difference between the maximum value and the minimum value in a data set\n"
   ]
  },
  {
   "cell_type": "code",
   "execution_count": null,
   "id": "311dc79b-47e8-4d85-9508-c9aed62afa88",
   "metadata": {},
   "outputs": [],
   "source": []
  }
 ],
 "metadata": {
  "kernelspec": {
   "display_name": "Python 3 (ipykernel)",
   "language": "python",
   "name": "python3"
  },
  "language_info": {
   "codemirror_mode": {
    "name": "ipython",
    "version": 3
   },
   "file_extension": ".py",
   "mimetype": "text/x-python",
   "name": "python",
   "nbconvert_exporter": "python",
   "pygments_lexer": "ipython3",
   "version": "3.10.8"
  }
 },
 "nbformat": 4,
 "nbformat_minor": 5
}
