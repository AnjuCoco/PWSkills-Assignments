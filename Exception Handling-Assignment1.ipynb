{
 "cells": [
  {
   "cell_type": "code",
   "execution_count": 1,
   "id": "cb51e06f-5dd7-4b63-8ea9-7518fcdd94bc",
   "metadata": {},
   "outputs": [],
   "source": [
    "# Q1. What is an Exception in python? \n",
    "# Write the difference between Exceptions and syntax errors"
   ]
  },
  {
   "cell_type": "code",
   "execution_count": 2,
   "id": "f1ca36ac-bada-468f-8f58-65745924e517",
   "metadata": {},
   "outputs": [],
   "source": [
    "# Ans - An exception in Python is a object that represents an error.\n",
    "# It is an is an event, which occurs during the execution of a program \n",
    "# that disrupts the normal flow of the program's instructions."
   ]
  },
  {
   "cell_type": "code",
   "execution_count": 3,
   "id": "9dfc7951-10b2-463e-909b-5d393be7e388",
   "metadata": {},
   "outputs": [],
   "source": [
    "# Exception handling allows you to separate error-handling code from normal code. \n",
    "# Exceptions provide the means to separate the details of what to do when something out of the ordinary happens from the main logic of a program\n",
    "# Due to this, whenever new code is tried and if it is written in exception block, it doesn't interrupt the actual execution of the program. Even though there is an error in that particular program block written in exception, it allows the balance part of the entire program to execute and run highlighting the error in exception block\n",
    "# Whereas syntax errors occurs when occurs the interpreter shows invalid syntax on executing the Python code. Whenever there is any such error, the compiler stops compiling the further execution of program and throws the error on the screen and unless the error is sorted out, the further execution doen't take place.\n"
   ]
  },
  {
   "cell_type": "code",
   "execution_count": 4,
   "id": "d35e8d38-2897-4cc5-a369-2c19b0163d71",
   "metadata": {},
   "outputs": [],
   "source": [
    "# Q2. What happens when exception is not handled? explain with example."
   ]
  },
  {
   "cell_type": "code",
   "execution_count": 5,
   "id": "de506357-0dec-4414-895b-efac16e0a0aa",
   "metadata": {},
   "outputs": [],
   "source": [
    "#Ans - When an error occurs that can cause the program to terminate. Errors interrupt the flow of the program at the point where they appear, so any further code stops executing. In order to address this, exception block is written so that whenevr we try new part of the code, exception would handle the errors in that section without interrupting the execution of the balance part of the program\n"
   ]
  },
  {
   "cell_type": "code",
   "execution_count": 11,
   "id": "97a7f6bd-d573-4eba-a8aa-6ec395b81eb1",
   "metadata": {},
   "outputs": [
    {
     "ename": "UnsupportedOperation",
     "evalue": "not writable",
     "output_type": "error",
     "traceback": [
      "\u001b[0;31m---------------------------------------------------------------------------\u001b[0m",
      "\u001b[0;31mUnsupportedOperation\u001b[0m                      Traceback (most recent call last)",
      "Cell \u001b[0;32mIn[11], line 3\u001b[0m\n\u001b[1;32m      1\u001b[0m \u001b[38;5;66;03m# example\u001b[39;00m\n\u001b[1;32m      2\u001b[0m f \u001b[38;5;241m=\u001b[39m \u001b[38;5;28mopen\u001b[39m(\u001b[38;5;124m\"\u001b[39m\u001b[38;5;124mtext.txt\u001b[39m\u001b[38;5;124m\"\u001b[39m, \u001b[38;5;124m'\u001b[39m\u001b[38;5;124mr\u001b[39m\u001b[38;5;124m'\u001b[39m)\n\u001b[0;32m----> 3\u001b[0m \u001b[43mf\u001b[49m\u001b[38;5;241;43m.\u001b[39;49m\u001b[43mwrite\u001b[49m\u001b[43m(\u001b[49m\u001b[38;5;124;43m\"\u001b[39;49m\u001b[38;5;124;43mthis is my exception handling file\u001b[39;49m\u001b[38;5;124;43m\"\u001b[39;49m\u001b[43m)\u001b[49m\n\u001b[1;32m      4\u001b[0m f \u001b[38;5;241m=\u001b[39m \u001b[38;5;28mopen\u001b[39m(\u001b[38;5;124m\"\u001b[39m\u001b[38;5;124mtext.txt\u001b[39m\u001b[38;5;124m\"\u001b[39m, \u001b[38;5;124m'\u001b[39m\u001b[38;5;124mw\u001b[39m\u001b[38;5;124m'\u001b[39m)\n\u001b[1;32m      5\u001b[0m f\u001b[38;5;241m.\u001b[39mwrite(\u001b[38;5;124m\"\u001b[39m\u001b[38;5;124mthis is my exception handling file\u001b[39m\u001b[38;5;124m\"\u001b[39m)\n",
      "\u001b[0;31mUnsupportedOperation\u001b[0m: not writable"
     ]
    }
   ],
   "source": [
    "# example\n",
    "f = open(\"text.txt\", 'r')\n",
    "f.write(\"this is my exception handling file\")\n",
    "f = open(\"text.txt\", 'w')\n",
    "f.write(\"this is my exception handling file\")\n",
    "f.close()\n",
    "f = open(\"text.txt\",'r')\n",
    "f.read()"
   ]
  },
  {
   "cell_type": "code",
   "execution_count": 12,
   "id": "383f56fb-a569-4c0d-80d6-5992230410dd",
   "metadata": {},
   "outputs": [
    {
     "name": "stdout",
     "output_type": "stream",
     "text": [
      "there is some issue with my code TextIOWrapper.write() takes exactly one argument (0 given)\n"
     ]
    },
    {
     "data": {
      "text/plain": [
       "'this is my exception handling file'"
      ]
     },
     "execution_count": 12,
     "metadata": {},
     "output_type": "execute_result"
    }
   ],
   "source": [
    "# example with Exception handling block\n",
    "try :\n",
    "    f = open(\"text.txt\", 'r')\n",
    "    f.write()\n",
    "   \n",
    "except Exception as e:\n",
    "    print(\"there is some issue with my code\", e)\n",
    "\n",
    "f = open(\"text.txt\", 'w')\n",
    "f.write(\"this is my exception handling file\")\n",
    "f.close()\n",
    "f = open(\"text.txt\",'r')\n",
    "f.read()\n"
   ]
  },
  {
   "cell_type": "code",
   "execution_count": 1,
   "id": "e740f172-ecb3-48c1-86a8-e5b5c5e82847",
   "metadata": {},
   "outputs": [],
   "source": [
    "# Q3. Which Python statements are used to catch and handle the exception? Explain with an example"
   ]
  },
  {
   "cell_type": "code",
   "execution_count": 2,
   "id": "5df28a31-d1c2-49d9-9e92-7c3dcad7aaa9",
   "metadata": {},
   "outputs": [],
   "source": [
    "# Ans - try and except block are used to catch and handle the exception"
   ]
  },
  {
   "cell_type": "code",
   "execution_count": 9,
   "id": "0d114cef-0a5f-4977-9610-2fc9b8aa83a7",
   "metadata": {},
   "outputs": [
    {
     "name": "stdout",
     "output_type": "stream",
     "text": [
      "there is some issue with my code not writable\n"
     ]
    }
   ],
   "source": [
    "# same example with exception block\n",
    "try :\n",
    "    f = open(\"text.txt\", 'r')\n",
    "    f.write(\"this is my exception handling file\")\n",
    "\n",
    "except Exception as e:\n",
    "    print(\"there is some issue with my code\", e)"
   ]
  },
  {
   "cell_type": "code",
   "execution_count": 13,
   "id": "5cec0ee2-12cc-4928-b179-9c166468dd98",
   "metadata": {},
   "outputs": [],
   "source": [
    "# Q4 - Explain with example \n",
    "# try and else"
   ]
  },
  {
   "cell_type": "code",
   "execution_count": 15,
   "id": "c47a5c49-c175-4ab2-ab76-9424bb01e0e2",
   "metadata": {},
   "outputs": [],
   "source": [
    "# Ans - try and else block is used in a manner that if the code written in try block is not successful then the Exception block would handle the error and if the code written in try block is successful then else block would be excuted and it would help to run the program successfully "
   ]
  },
  {
   "cell_type": "code",
   "execution_count": 17,
   "id": "4c890147-0185-40e6-93aa-35808fd33929",
   "metadata": {},
   "outputs": [
    {
     "name": "stdout",
     "output_type": "stream",
     "text": [
      "this block would be executed only after try block is executed successfully\n"
     ]
    }
   ],
   "source": [
    "try :\n",
    "    f = open(\"text.txt\", 'w')\n",
    "    f.write(\"this is my first exception handling file\")\n",
    "\n",
    "except Exception as e:\n",
    "    print(\"there is some issue with my code\", e)\n",
    "\n",
    "else : \n",
    "    f.close()\n",
    "    print(\"this block would be executed only after try block is executed successfully\")"
   ]
  },
  {
   "cell_type": "code",
   "execution_count": 20,
   "id": "95f1233e-4340-45fd-a22e-18c84edefe2f",
   "metadata": {},
   "outputs": [],
   "source": [
    "# finally - this block is used to write the codes which needs to be executed at any cost irrespective of any errors in the main body of the code "
   ]
  },
  {
   "cell_type": "code",
   "execution_count": 21,
   "id": "6999d9bc-a70f-413a-8450-1811deb80b81",
   "metadata": {},
   "outputs": [
    {
     "name": "stdout",
     "output_type": "stream",
     "text": [
      "there is some issue with my code TextIOWrapper.write() takes exactly one argument (0 given)\n",
      "This would always execute at any cost\n"
     ]
    }
   ],
   "source": [
    "try :\n",
    "    f = open(\"text.txt\", 'r')\n",
    "    f.write()\n",
    "   \n",
    "except Exception as e:\n",
    "    print(\"there is some issue with my code\", e)\n",
    "\n",
    "finally:\n",
    "    print(\"This would always execute at any cost\")"
   ]
  },
  {
   "cell_type": "code",
   "execution_count": 23,
   "id": "c1345c30-4a9d-448c-969b-16a013b377db",
   "metadata": {},
   "outputs": [],
   "source": [
    "# raise - it is a keyword generally used in custom exception handling. It raises a specific exception when a condition is either met or the code encounters an error. \n",
    "# When we use the raise keyword, we can define what kind of error the machine should raise for a particular exception."
   ]
  },
  {
   "cell_type": "code",
   "execution_count": 27,
   "id": "6a276fc7-e628-4628-80c9-c61e7e5c172b",
   "metadata": {},
   "outputs": [
    {
     "name": "stdin",
     "output_type": "stream",
     "text": [
      "Enter the amount you want to deposit -1000\n"
     ]
    },
    {
     "name": "stdout",
     "output_type": "stream",
     "text": [
      "amount should not be less than zero\n"
     ]
    }
   ],
   "source": [
    "# example for depositing a negative cash\n",
    "\n",
    "# inheriting Exception module in custom exception handling\n",
    "class validateentry(Exception):\n",
    "    def __init__(self, msg):\n",
    "        self.msg = msg\n",
    "\n",
    "# creating a function to validate enrty\n",
    "def validate_entry(amount):\n",
    "    if amount < 0:\n",
    "        raise validateentry(\"amount should not be less than zero\")\n",
    "    else:\n",
    "        print(\"valid entry\")\n",
    "        \n",
    "# try block for new code\n",
    "try:\n",
    "    amt = int(input(\"Enter the amount you want to deposit\"))\n",
    "    validate_entry(amt)\n",
    "    \n",
    "# calling custom exception block\n",
    "except validateentry as e:\n",
    "    print(e)\n",
    "\n"
   ]
  },
  {
   "cell_type": "code",
   "execution_count": 3,
   "id": "b01aba98-ccd0-4146-a22b-dd10acfc10cb",
   "metadata": {},
   "outputs": [],
   "source": [
    "# Q5. What are Custom Exception in Python? Why do you need custom exception and explain it with example."
   ]
  },
  {
   "cell_type": "code",
   "execution_count": 8,
   "id": "f4b00f3f-992a-43de-864f-b1fe27610b04",
   "metadata": {},
   "outputs": [],
   "source": [
    "# Ans - Sometimes system doesn't generate error (i.e. program does not have an Exception for the system) However, the inputs received could be invalid for execution of our programs. In such cases, Python allows to create user defined customised exception to identify such error and handle it seperately. \n",
    "# These are known as Custom Exception.\n",
    "# as given example in answer 4, in which the entry made while depositing money, if it is negative, the system generates custom exception error mentioning that the amount should not be less than zero. the entry will not create any system error but for the programmer who wants to finally calculate total amount after depositing the money can not be less than the original existing amount and hence, we should not accept negative entry. This error is handled by the custom exception method.\n"
   ]
  },
  {
   "cell_type": "code",
   "execution_count": 9,
   "id": "47eb5218-d3d9-402d-bae0-e43af6b26dfc",
   "metadata": {},
   "outputs": [],
   "source": [
    "# Q6 Create a Custom Exception class and use this to handle an exception"
   ]
  },
  {
   "cell_type": "code",
   "execution_count": 10,
   "id": "bdea4aef-48c1-43c7-90ec-1b64c9fa135b",
   "metadata": {},
   "outputs": [
    {
     "name": "stdin",
     "output_type": "stream",
     "text": [
      "Enter your age 9\n"
     ]
    },
    {
     "name": "stdout",
     "output_type": "stream",
     "text": [
      "You are not eligible for voting\n"
     ]
    }
   ],
   "source": [
    "# example for invalid age for voting\n",
    "\n",
    "# inheriting Exception module in custom exception handling\n",
    "class validage(Exception):\n",
    "    def __init__(self, msg):\n",
    "        self.msg = msg\n",
    "\n",
    "# creating a function to validate age for voting\n",
    "def valid_age(x):\n",
    "    if age < 18 :\n",
    "        raise validage(\"You are not eligible for voting\")\n",
    "    else:\n",
    "        print(\"Eligible for voting\")\n",
    "\n",
    "# try block for new code\n",
    "try:\n",
    "    age = int(input(\"Enter your age\"))\n",
    "    valid_age(age)\n",
    "    \n",
    "# calling custom exception block\n",
    "except validage as e:\n",
    "    print(e)\n",
    "    "
   ]
  },
  {
   "cell_type": "code",
   "execution_count": null,
   "id": "60465d30-9ed2-49e7-9dfd-73a46588d8ea",
   "metadata": {},
   "outputs": [],
   "source": []
  }
 ],
 "metadata": {
  "kernelspec": {
   "display_name": "Python 3 (ipykernel)",
   "language": "python",
   "name": "python3"
  },
  "language_info": {
   "codemirror_mode": {
    "name": "ipython",
    "version": 3
   },
   "file_extension": ".py",
   "mimetype": "text/x-python",
   "name": "python",
   "nbconvert_exporter": "python",
   "pygments_lexer": "ipython3",
   "version": "3.10.8"
  }
 },
 "nbformat": 4,
 "nbformat_minor": 5
}
