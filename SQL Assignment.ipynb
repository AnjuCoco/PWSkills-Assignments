{
 "cells": [
  {
   "cell_type": "code",
   "execution_count": 1,
   "id": "c65610a8-7817-4f4c-b317-0f57c681ee5a",
   "metadata": {},
   "outputs": [],
   "source": [
    "# Q1. What is a database? Differentiate between SQL and NoSQL databases."
   ]
  },
  {
   "cell_type": "code",
   "execution_count": 2,
   "id": "bad67011-01b6-42e6-a97e-a76229de2e21",
   "metadata": {},
   "outputs": [],
   "source": [
    "# Ans - A database is a collection of structured/non-structured information, or data, \n",
    "# typically stored electronically in a computer system.\n",
    "# For creating Database, they collect information on people, places or things. \n",
    "# This information is then stored, maintained and accessed as and when needed. "
   ]
  },
  {
   "cell_type": "code",
   "execution_count": 4,
   "id": "88a82234-5d16-4da7-b163-278558e2ed99",
   "metadata": {},
   "outputs": [],
   "source": [
    "# Difference between SQL and NoSQL\n",
    "# 1. SQL works on structured data and NoSQL works on non structured data such as images, videos, text type of data\n",
    "# 2. SQL database is relational and NoSQL database is non-relational.\n",
    "# 3. SQL databases are table-based, while NoSQL databases are videos, text type of document"
   ]
  },
  {
   "cell_type": "code",
   "execution_count": 5,
   "id": "4b02c0b2-c222-4171-8ccf-bcd8cb07cd62",
   "metadata": {},
   "outputs": [],
   "source": [
    "# Q2. What is DDL? Explain why CREATE, DROP, ALTER, and TRUNCATE are used with an example."
   ]
  },
  {
   "cell_type": "code",
   "execution_count": 12,
   "id": "46f2220a-7c0b-41d4-a633-3cd5aeaf835a",
   "metadata": {},
   "outputs": [],
   "source": [
    "# Ans - DDL means - Data Definition Language\n",
    "# DDL is a subset of SQL. It consists of the SQL commands that can be used to define the database schema. \n",
    "# It simply deals with descriptions of the database schema and\n",
    "# it is used to create and modify the structure of database objects in the database.  \n",
    "# DDL consist of Commands to commands like CREATE, ALTER, TRUNCATE and DROP. \n",
    "# These commands are used to create or modify the tables in SQL."
   ]
  },
  {
   "cell_type": "code",
   "execution_count": 9,
   "id": "00bbc827-f7d9-4ed2-9aaa-0366dd764f37",
   "metadata": {},
   "outputs": [
    {
     "data": {
      "text/plain": [
       "'CREATE TABLE Student_info\\n(\\nCollege_Id int(4),\\nCollege_name varchar(30),\\nBranch varchar(10)\\n);'"
      ]
     },
     "execution_count": 9,
     "metadata": {},
     "output_type": "execute_result"
    }
   ],
   "source": [
    "# CREATE : This command is used to create a new table in SQL. \n",
    "'''CREATE TABLE Student_info\n",
    "(\n",
    "College_Id int(4),\n",
    "College_name varchar(30),\n",
    "Branch varchar(10)\n",
    ");'''"
   ]
  },
  {
   "cell_type": "code",
   "execution_count": 2,
   "id": "433e1477-6524-4573-8cbb-97e5079ba472",
   "metadata": {},
   "outputs": [],
   "source": [
    "# ALTER : This command is used to add, delete or change columns in the existing table."
   ]
  },
  {
   "cell_type": "code",
   "execution_count": 3,
   "id": "d8f5d2aa-7bab-4d11-b9a5-05e62f60a736",
   "metadata": {},
   "outputs": [
    {
     "data": {
      "text/plain": [
       "'ALTER TABLE table_name\\nADD column_name datatype;'"
      ]
     },
     "execution_count": 3,
     "metadata": {},
     "output_type": "execute_result"
    }
   ],
   "source": [
    "'''ALTER TABLE table_name\n",
    "ADD column_name datatype;'''"
   ]
  },
  {
   "cell_type": "code",
   "execution_count": 4,
   "id": "a353f09c-c0cd-4f99-bd68-d33453ac02f8",
   "metadata": {},
   "outputs": [],
   "source": [
    "# TRUNCATE : This command is used to remove all rows from the table, but the structure of the table still exists."
   ]
  },
  {
   "cell_type": "code",
   "execution_count": 5,
   "id": "25b7a508-5e46-480b-b491-bb3d17af346d",
   "metadata": {},
   "outputs": [
    {
     "data": {
      "text/plain": [
       "'TRUNCATE TABLE Student_info;'"
      ]
     },
     "execution_count": 5,
     "metadata": {},
     "output_type": "execute_result"
    }
   ],
   "source": [
    "'''TRUNCATE TABLE Student_info;'''"
   ]
  },
  {
   "cell_type": "code",
   "execution_count": 6,
   "id": "45a6fd0e-4888-49a6-bafc-6fec9e549ef1",
   "metadata": {},
   "outputs": [],
   "source": [
    "# DROP : This command is used to remove an existing table along with its structure from the Database."
   ]
  },
  {
   "cell_type": "code",
   "execution_count": 7,
   "id": "ee832a2f-80ad-4b83-a399-446f9e0955ef",
   "metadata": {},
   "outputs": [
    {
     "data": {
      "text/plain": [
       "'DROP TABLE Student_info;'"
      ]
     },
     "execution_count": 7,
     "metadata": {},
     "output_type": "execute_result"
    }
   ],
   "source": [
    "'''DROP TABLE Student_info;'''"
   ]
  },
  {
   "cell_type": "code",
   "execution_count": 10,
   "id": "458e97e7-106d-44e8-b1e8-214581fbc3aa",
   "metadata": {},
   "outputs": [],
   "source": [
    "# Q3. What is DML? Explain INSERT, UPDATE, and DELETE with an example."
   ]
  },
  {
   "cell_type": "code",
   "execution_count": 14,
   "id": "30e7e86c-24e7-4543-a400-af82123cc321",
   "metadata": {},
   "outputs": [],
   "source": [
    "# Ans - DML - Data Manipulation Language \n",
    "# SQL commands that deal with the manipulation of data present in the database belong to DML and \n",
    "# this includes most of the SQL statements. \n",
    "# DML commands in SQL manage data records stored within the database tables.\n",
    "# It is the component of the SQL statement that controls access to data and to the database. "
   ]
  },
  {
   "cell_type": "code",
   "execution_count": 18,
   "id": "bce6acb1-b368-44b4-aa81-927ddf919bfd",
   "metadata": {},
   "outputs": [
    {
     "data": {
      "text/plain": [
       "'INSERT INTO STUDENT(ID, NAME,AGE,GRADE,CITY) \\nVALUES(1,\"AMIT KUMAR\",15,10,\"DELHI\"),\\n(2,\"GAURI RAO\",18,12,\"BANGALORE\"),\\n(3,\"MANAV BHATT\",17,11,\"NEW DELHI\"),\\n(4,\"RIYA KAPOOR\",10,5,\"UDAIPUR\");'"
      ]
     },
     "execution_count": 18,
     "metadata": {},
     "output_type": "execute_result"
    }
   ],
   "source": [
    "# INSERT: It is used to insert data into a table.\n",
    "# Eg. creating table named 'STUDENT' having colunms ID, NAME, GRADE and CITY and adding values\n",
    "'''INSERT INTO STUDENT(ID, NAME,AGE,GRADE,CITY) \n",
    "VALUES(1,\"AMIT KUMAR\",15,10,\"DELHI\"),\n",
    "(2,\"GAURI RAO\",18,12,\"BANGALORE\"),\n",
    "(3,\"MANAV BHATT\",17,11,\"NEW DELHI\"),\n",
    "(4,\"RIYA KAPOOR\",10,5,\"UDAIPUR\");'''"
   ]
  },
  {
   "cell_type": "code",
   "execution_count": 19,
   "id": "2ae09937-af4d-460e-a647-df8155c47b50",
   "metadata": {},
   "outputs": [
    {
     "data": {
      "text/plain": [
       "'UPDATE STUDENT SET CITY  \\n= \\'MUMBAI\\' WHERE NAME = \"RIYA KAPOOR\";'"
      ]
     },
     "execution_count": 19,
     "metadata": {},
     "output_type": "execute_result"
    }
   ],
   "source": [
    "# UPDATE: It is used to update existing data within a table.\n",
    "'''UPDATE STUDENT SET CITY  \n",
    "= 'MUMBAI' WHERE NAME = \"RIYA KAPOOR\";'''\n",
    "# This would select the row where name \"RIYA KAPOOR\" appears and update city to 'Mumbai'"
   ]
  },
  {
   "cell_type": "code",
   "execution_count": 20,
   "id": "5f075bdc-ee08-4b64-930a-a76197332b6f",
   "metadata": {},
   "outputs": [
    {
     "data": {
      "text/plain": [
       "\"DELETE FROM STUDENT WHERE CITY = 'DELHI';\""
      ]
     },
     "execution_count": 20,
     "metadata": {},
     "output_type": "execute_result"
    }
   ],
   "source": [
    "# DELETE: It is used to delete records from a database table.\n",
    "'''DELETE FROM STUDENT WHERE CITY = 'DELHI';'''\n",
    "# This would delete a row where 'DELHI' city is mentioned"
   ]
  },
  {
   "cell_type": "code",
   "execution_count": 21,
   "id": "0e446170-d423-4c30-b9ca-12cfa4e5a8ee",
   "metadata": {},
   "outputs": [],
   "source": [
    "# Q4. What is DQL? Explain SELECT with an example."
   ]
  },
  {
   "cell_type": "code",
   "execution_count": null,
   "id": "192e274d-a2c4-45c0-acc4-2233d0835cb9",
   "metadata": {},
   "outputs": [],
   "source": [
    "# Ans - DQL - Data Query Language\n",
    "# DQL statements are used for performing queries on the data within schema objects. \n",
    "# It is a component of SQL statement that allows getting data from the database and imposing order upon it."
   ]
  },
  {
   "cell_type": "code",
   "execution_count": 22,
   "id": "cdb33eb4-0018-437f-9cca-4ed9088caf77",
   "metadata": {},
   "outputs": [],
   "source": [
    "# SELECT: It is used to retrieve data from the database.\n",
    "# This command allows getting the data out of the database to perform operations with it."
   ]
  },
  {
   "cell_type": "code",
   "execution_count": 23,
   "id": "6e68502d-e140-4c8f-b6bc-4a8a38887c07",
   "metadata": {},
   "outputs": [
    {
     "data": {
      "text/plain": [
       "'SELECT NAME, GRADE FROM STUDENT;'"
      ]
     },
     "execution_count": 23,
     "metadata": {},
     "output_type": "execute_result"
    }
   ],
   "source": [
    "'''SELECT NAME, GRADE FROM STUDENT;'''\n",
    "# This commmand would display two coulmns viz. NAME and GRADE from a table STUDENT"
   ]
  },
  {
   "cell_type": "code",
   "execution_count": 1,
   "id": "bc0bd893-0d2a-42e7-b8bd-48b41ba47dfb",
   "metadata": {},
   "outputs": [],
   "source": [
    "# Q5. Explain Primary Key and Foreign Key."
   ]
  },
  {
   "cell_type": "code",
   "execution_count": 2,
   "id": "47188e68-8af3-43f3-9b99-14cb905dfbba",
   "metadata": {},
   "outputs": [],
   "source": [
    "# Keys are one of the most important elements in a relational database \n",
    "# to maintain the relationship between the tables and it also helps in uniquely identifying the data from a table. \n"
   ]
  },
  {
   "cell_type": "code",
   "execution_count": 3,
   "id": "ae65e9ef-51a0-4d47-8561-4cd3c22bef0f",
   "metadata": {},
   "outputs": [],
   "source": [
    "# The primary Key is a key that helps in uniquely identifying the tuple of the database.\n",
    "# It is used to ensure that data in the specific column is unique. A column cannot have NULL values. "
   ]
  },
  {
   "cell_type": "code",
   "execution_count": 4,
   "id": "c9bff700-2a9b-4637-bc3a-629080fb3599",
   "metadata": {},
   "outputs": [],
   "source": [
    "# Foreign Key is used to identify the relationship between the tables through the primary key of one table.\n",
    "# It is a column or group of columns in a relational database table that provides a link between data in two tables.\n",
    "# It refers to the field in a table which is the primary key of another table."
   ]
  },
  {
   "cell_type": "code",
   "execution_count": 5,
   "id": "d9aaa5a8-de81-434e-82cd-a416d4486b61",
   "metadata": {},
   "outputs": [],
   "source": [
    "# Primary Key contains unique values, whereas Foreign Key contains values taking reference from Primary Keys."
   ]
  },
  {
   "cell_type": "code",
   "execution_count": 6,
   "id": "0927a0ff-5cc9-459b-8615-042fc2d44e8b",
   "metadata": {},
   "outputs": [],
   "source": [
    "# Q6. Write a python code to connect MySQL to python. Explain the cursor() and execute() method."
   ]
  },
  {
   "cell_type": "code",
   "execution_count": 9,
   "id": "f7f0afca-410d-45ec-ae78-49ec0f29de7c",
   "metadata": {},
   "outputs": [
    {
     "data": {
      "text/plain": [
       "'import mysql.connector\\nmydb = mysql.connector.connect(\\n    host = \"localhost\",\\n    user = \"abc\",\\n    password = \"password\")\\nprint(mydb)\\n\\nmycursor = mydb.cursor()'"
      ]
     },
     "execution_count": 9,
     "metadata": {},
     "output_type": "execute_result"
    }
   ],
   "source": [
    "# Ans - Python code to connect MySQL to python\n",
    "'''import mysql.connector\n",
    "mydb = mysql.connector.connect(\n",
    "    host = \"localhost\",\n",
    "    user = \"abc\",\n",
    "    password = \"password\")\n",
    "print(mydb)\n",
    "\n",
    "mycursor = mydb.cursor()'''"
   ]
  },
  {
   "cell_type": "code",
   "execution_count": 10,
   "id": "1144de9d-34e5-4b65-8944-8af4c628583d",
   "metadata": {},
   "outputs": [],
   "source": [
    "# Cursor() is used to store the Database tables. \n",
    "# Cursor updates one row at a time.\n",
    "# Cursor object is a user-defined iterative variable that enables the user to access query results."
   ]
  },
  {
   "cell_type": "code",
   "execution_count": 11,
   "id": "83c92f6f-de1d-49f0-84cc-fdeb1c492483",
   "metadata": {},
   "outputs": [],
   "source": [
    "# execute() is a method that executes the given database operation (query or command). "
   ]
  },
  {
   "cell_type": "code",
   "execution_count": 12,
   "id": "4a03d611-afe3-4b36-8562-c0ae39b7a59a",
   "metadata": {},
   "outputs": [],
   "source": [
    "# Q7. Give the order of execution of SQL clauses in an SQL query."
   ]
  },
  {
   "cell_type": "code",
   "execution_count": 14,
   "id": "8ac7a271-dbfe-4e58-823b-9ee39ade6b0f",
   "metadata": {},
   "outputs": [
    {
     "data": {
      "text/plain": [
       "'mycursor.execute(\"SHOW DATABASE\")\\nfor x in mycursor:\\n    print(x)\\n'"
      ]
     },
     "execution_count": 14,
     "metadata": {},
     "output_type": "execute_result"
    }
   ],
   "source": [
    "# ans - example of command to execute\n",
    "'''mycursor.execute(\"SHOW DATABASE\")\n",
    "for x in mycursor:\n",
    "    print(x)\n",
    "'''"
   ]
  },
  {
   "cell_type": "code",
   "execution_count": 2,
   "id": "a3c999d0-c69f-482c-a7b2-86d535fcc446",
   "metadata": {},
   "outputs": [],
   "source": [
    "# order of execution\n",
    "# 1. FROM and JOIN s - to determine the total working set of data that is being queried.\n",
    "\n",
    "# 2. WHERE - the first-pass WHERE constraints are applied to the individual rows, \n",
    "# and rows that do not satisfy the constraint are discarded.\n",
    "\n",
    "# 3. GROUP BY - The remaining rows after the WHERE constraints are applied are then grouped based on \n",
    "# common values in the column specified in the GROUP BY clause. \n",
    "# As a result of the grouping, there will only be as many rows as there are unique values in that column. \n",
    "\n",
    "# 4. HAVING - hen the constraints in the HAVING clause are then applied to the grouped rows, \n",
    "# discard the grouped rows that don't satisfy the constraint.\n",
    "\n",
    "# 5. SELECT - Any expressions in the SELECT part of the query are finally computed.\n",
    "\n",
    "# 6. DISTINCT - Of the remaining rows, rows with duplicate values in the column marked as DISTINCT will be discarded.\n",
    "\n",
    "# 7. ORDER BY - the rows are then sorted by the specified data in either ascending or descending order. \n",
    "\n",
    "# 8. LIMIT / OFFSET - Finally, the rows that fall outside the range specified by the LIMIT and OFFSET are discarded."
   ]
  },
  {
   "cell_type": "code",
   "execution_count": null,
   "id": "f4c2d861-4bd4-4606-a21d-6dc747f16451",
   "metadata": {},
   "outputs": [],
   "source": []
  }
 ],
 "metadata": {
  "kernelspec": {
   "display_name": "Python 3 (ipykernel)",
   "language": "python",
   "name": "python3"
  },
  "language_info": {
   "codemirror_mode": {
    "name": "ipython",
    "version": 3
   },
   "file_extension": ".py",
   "mimetype": "text/x-python",
   "name": "python",
   "nbconvert_exporter": "python",
   "pygments_lexer": "ipython3",
   "version": "3.10.8"
  }
 },
 "nbformat": 4,
 "nbformat_minor": 5
}
