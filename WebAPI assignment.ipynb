{
 "cells": [
  {
   "cell_type": "code",
   "execution_count": 1,
   "id": "0be81f50-b844-4272-8d42-649e0c254606",
   "metadata": {},
   "outputs": [],
   "source": [
    "# Q1. What is an API? Give an example, where an API is used in real life."
   ]
  },
  {
   "cell_type": "code",
   "execution_count": 2,
   "id": "042377c1-4c5f-49f5-9280-fe431b0da0b8",
   "metadata": {},
   "outputs": [],
   "source": [
    "# API - Application Programming Interface\n",
    "# which helps to communicate two applications/systems\n",
    "# It operates as a bridge between internal and external software operations, allowing for an interchange of data.\n",
    "# API acts as a virtual middleman, transferring data from one interface to another."
   ]
  },
  {
   "cell_type": "code",
   "execution_count": 3,
   "id": "4c6ceb4f-60d6-44df-8173-3e4ef6ec6691",
   "metadata": {},
   "outputs": [],
   "source": [
    "# Real life example of API - Payment through G-pay or PayPal or any such portal\n",
    "# When a user selects the \"Pay with PayPal/G-Pay\" button, the application sends request to the PayPal/G-Pay API, \n",
    "# containing the amount owing and other critical information.\n",
    "# The user is then authenticated and the API returns payment confirmation to the application if everything goes ok.\n",
    "# and their purchase is confirmed through a pop-up. "
   ]
  },
  {
   "cell_type": "code",
   "execution_count": 4,
   "id": "d17febc7-a389-4702-b1f6-aa75faddb841",
   "metadata": {},
   "outputs": [],
   "source": [
    "# Q2. Give advantages and disadvantages of using API."
   ]
  },
  {
   "cell_type": "code",
   "execution_count": 5,
   "id": "0325df61-fd35-4f44-8321-d30a3f27a264",
   "metadata": {},
   "outputs": [],
   "source": [
    "# Advantages\n",
    "# Increased efficiency and easy integration: APIs allow one computer program's capabilities to be utilized by another. They allow two separate programs to communicate with one another.\n",
    "# Greater flexibility: By using APIs, developers can build new features and applications without having to start from scratch, \n",
    "# which allows for greater innovation and faster development.\n",
    "# Increased accessibility: APIs can make it easier for third-party developers to access and use a company's data \n",
    "# or services, which can lead to new opportunities and revenue streams."
   ]
  },
  {
   "cell_type": "code",
   "execution_count": 6,
   "id": "0abb6067-c2fa-41b7-81c2-77225ca71d80",
   "metadata": {},
   "outputs": [],
   "source": [
    "# Disadvantages:\n",
    "# Security risks: the critical information shared over the platform is vulnerable to hacking.\n",
    "# Complexity: APIs can be complex, requiring a significant amount of development effort to implement and maintain.\n",
    "# Compatibility Issues: APIs can have compatibility issues between different versions of the same software system \n",
    "# or between different systems, which can lead to errors and system failures.\n",
    "# Dependency on Third-Party Developers: APIs rely on third-party developers to create applications that \n",
    "# integrate with the software system"
   ]
  },
  {
   "cell_type": "code",
   "execution_count": 7,
   "id": "2f1a2acc-15d9-4e39-9b77-f3db2a67a1af",
   "metadata": {},
   "outputs": [],
   "source": [
    "# Q3. What is a Web API? Differentiate between API and Web API."
   ]
  },
  {
   "cell_type": "code",
   "execution_count": 10,
   "id": "323a50da-35c7-4c97-9a3a-4e14cf0d5214",
   "metadata": {},
   "outputs": [],
   "source": [
    "# APIs work on TCP(transmission control protocol) or SMTP (Simple Mail Transport Protocol) or\n",
    "# HTTP (Hyper Text Transfer Protocol)\n",
    "# whereas Web APIs works on HTTP \n",
    "# Web API is a subset of API\n",
    "# API is an interface that exposes an application's data to outside software, \n",
    "# whereas Web APIs are the one with stricter requirements."
   ]
  },
  {
   "cell_type": "code",
   "execution_count": 11,
   "id": "a7aea9e2-c855-45aa-bf71-e90877b33adf",
   "metadata": {},
   "outputs": [],
   "source": [
    "# Q4. Explain REST and SOAP Architecture. Mention shortcomings of SOAP."
   ]
  },
  {
   "cell_type": "code",
   "execution_count": 13,
   "id": "24cb16c9-5bed-4317-828c-212d25eac649",
   "metadata": {},
   "outputs": [],
   "source": [
    "# REST: Representational State Transfer : which uses HTTP protocol\n",
    "# It uses web based application and functions like PUT, GET, POST, DELETE are carried out\n",
    "# It is known for simplicity and scalability\n",
    "# It is less secure."
   ]
  },
  {
   "cell_type": "code",
   "execution_count": 14,
   "id": "a69cbe6d-30ed-47cc-8ced-c8ae4b0ff247",
   "metadata": {},
   "outputs": [],
   "source": [
    "# SOAP : Simple Object Access Protocol: which uses TCP/SMTP protocol\n",
    "# It imposes built-in rules that increase its complexity and overhead, which can lead to longer page load times. \n",
    "# Generally the data is transferred through XML (extended markup language)\n",
    "# A completed request to a SOAP API is not cacheable by a browser, \n",
    "# so it cannot be accessed later without resending to the API."
   ]
  },
  {
   "cell_type": "code",
   "execution_count": 15,
   "id": "d0ad9938-5c71-45fb-b2f5-df728c59eda5",
   "metadata": {},
   "outputs": [],
   "source": [
    "# shortcomings of SOAP:\n",
    "# since it is a protocol, it imposes built-in rules that increase its complexity and overhead, which can lead to longer page load times.\n",
    "# It is not easily scalable.\n",
    "# It is highly complex.\n",
    "# Uses more bandwidth\n",
    "# Not flexible with data formats, i.e. uses XML to transfer data\n",
    "# APIs are not cacheable by a browser so it cannot be accessed later without resending to the API.\n"
   ]
  },
  {
   "cell_type": "code",
   "execution_count": 16,
   "id": "da5808e7-2227-4e9c-8451-1824fb77124e",
   "metadata": {},
   "outputs": [],
   "source": [
    "# Q5. Differentiate between REST and SOAP."
   ]
  },
  {
   "cell_type": "code",
   "execution_count": 17,
   "id": "2be34771-1df7-466f-afa0-0d4b27645c76",
   "metadata": {},
   "outputs": [],
   "source": [
    "# REST: Representational State Transfer : which uses HTTP protocol\n",
    "# It uses web based application and functions like PUT, GET, POST, DELETE are carried out and it is less complex.\n",
    "# It is known for simplicity and scalability\n",
    "# It is less secure."
   ]
  },
  {
   "cell_type": "code",
   "execution_count": 18,
   "id": "8c7198f4-2012-427a-b187-63f6a21b825f",
   "metadata": {},
   "outputs": [],
   "source": [
    "# SOAP : Simple Object Access Protocol: which uses TCP/SMTP protocol\n",
    "# It imposes built-in rules that increase its complexity and overhead, which can lead to longer page load times. \n",
    "# Generally the data is transferred through XML (extended markup language)\n",
    "# A completed request to a SOAP API is not cacheable by a browser, \n",
    "# so it cannot be accessed later without resending to the API.\n",
    "# It is highly secure"
   ]
  },
  {
   "cell_type": "code",
   "execution_count": null,
   "id": "ef7683ff-bfb2-4ec2-870a-fc254e5583c8",
   "metadata": {},
   "outputs": [],
   "source": []
  }
 ],
 "metadata": {
  "kernelspec": {
   "display_name": "Python 3 (ipykernel)",
   "language": "python",
   "name": "python3"
  },
  "language_info": {
   "codemirror_mode": {
    "name": "ipython",
    "version": 3
   },
   "file_extension": ".py",
   "mimetype": "text/x-python",
   "name": "python",
   "nbconvert_exporter": "python",
   "pygments_lexer": "ipython3",
   "version": "3.10.8"
  }
 },
 "nbformat": 4,
 "nbformat_minor": 5
}
