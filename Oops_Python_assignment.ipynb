{
 "cells": [
  {
   "cell_type": "code",
   "execution_count": 1,
   "id": "bc645aad-7596-44f5-ba29-cbe93a0d5469",
   "metadata": {},
   "outputs": [],
   "source": [
    "# Q1. Explain Class and Object with respect to Object-Oriented Programming. Give a suitable example."
   ]
  },
  {
   "cell_type": "code",
   "execution_count": 2,
   "id": "c45f7552-b08f-4a49-8241-a1bc6abf494c",
   "metadata": {},
   "outputs": [],
   "source": [
    "# Class is a blueprint or a template that describes the characteristics and behaviours for similar types of objects\n",
    "# Objects are the entities which posses different characteristics but have common behavious described within class\n",
    "# Example: Class : TV Set having \n",
    "#                  characteristics : Size, no. of channels, price etc. \n",
    "#                  Behaviours : viewing TV programs, playing video games, viewing movies\n",
    "#           Object 1: Sony\n",
    "#                  characteristics : Size, no. of channels, price etc. \n",
    "#                  Common Behaviours : viewing TV programs, playing video games, viewing movies\n",
    "#           Object 2: LG\n",
    "#                  characteristics : Size, no. of channels, price etc. \n",
    "#                  Common Behaviours : viewing TV programs, playing video games, viewing movies"
   ]
  },
  {
   "cell_type": "code",
   "execution_count": 3,
   "id": "1a0016c0-731b-4a7f-b56f-9386a4b16fab",
   "metadata": {},
   "outputs": [],
   "source": [
    "# Q2. Name the four pillars of OOPs."
   ]
  },
  {
   "cell_type": "code",
   "execution_count": 4,
   "id": "627c9f50-97fe-4469-a3eb-33b53adb3f25",
   "metadata": {},
   "outputs": [],
   "source": [
    "# Polymorphism, Encapsulation, Inheritance, Abstract class"
   ]
  },
  {
   "cell_type": "code",
   "execution_count": 5,
   "id": "690da4bb-4b23-47db-86db-f2058e63e476",
   "metadata": {},
   "outputs": [],
   "source": [
    "# Q3. Explain why the __init__() function is used. Give a suitable example."
   ]
  },
  {
   "cell_type": "code",
   "execution_count": 16,
   "id": "bea000d7-ffa7-4864-ae5e-c605a5be3e22",
   "metadata": {},
   "outputs": [],
   "source": [
    "# __init__() function is a constructor in python. It is used to assign values\n",
    "# or initialize data members while creating objects "
   ]
  },
  {
   "cell_type": "code",
   "execution_count": 17,
   "id": "1aba837f-dde7-468f-b0b3-5bcb4885bcdf",
   "metadata": {},
   "outputs": [],
   "source": [
    "class vehicle:\n",
    "    def __init__(self, name_of_vehicle, max_speed, average_of_vehicle):\n",
    "        self.name_of_vehicle = name_of_vehicle\n",
    "        self.max_speed = max_speed\n",
    "        self.average_of_vehicle = average_of_vehicle"
   ]
  },
  {
   "cell_type": "code",
   "execution_count": 18,
   "id": "06cfe7bc-22b6-4bd2-ad17-8c04d01b966b",
   "metadata": {},
   "outputs": [],
   "source": [
    "ob1 = vehicle(\"Maruti_Suzuki\", 120, 14)"
   ]
  },
  {
   "cell_type": "code",
   "execution_count": 20,
   "id": "959b09f2-fa0b-41a2-8dbf-55b917d43f0f",
   "metadata": {},
   "outputs": [
    {
     "data": {
      "text/plain": [
       "'Maruti_Suzuki'"
      ]
     },
     "execution_count": 20,
     "metadata": {},
     "output_type": "execute_result"
    }
   ],
   "source": [
    "ob1.name_of_vehicle"
   ]
  },
  {
   "cell_type": "code",
   "execution_count": 21,
   "id": "49f005c8-cea2-4f55-8eb7-b2be9e26d963",
   "metadata": {},
   "outputs": [],
   "source": [
    "# Q4. Why self is used in OOPs?"
   ]
  },
  {
   "cell_type": "code",
   "execution_count": 23,
   "id": "5efad292-3d81-409c-b108-f8fc84c1d832",
   "metadata": {},
   "outputs": [],
   "source": [
    "# self allows you to access variables, attributes, and methods of a defined class in Python.\n",
    "# It connects the methods with the class\n",
    "# It is used in instance class"
   ]
  },
  {
   "cell_type": "code",
   "execution_count": 25,
   "id": "ec33d2e2-7918-4770-9d1f-0cb31d79cdbf",
   "metadata": {},
   "outputs": [],
   "source": [
    "# Q5. What is inheritance? Give an example for each type of inheritance."
   ]
  },
  {
   "cell_type": "code",
   "execution_count": 26,
   "id": "25366892-1d63-4d7b-9d7e-7f72de2f12b4",
   "metadata": {},
   "outputs": [],
   "source": [
    "# Inheritance allows us to define a class that inherits all the methods and properties from another class.\n",
    "# Parent class is the class being inherited from, also called base class. \n",
    "# Child class is the class that inherits from another class, also called derived class."
   ]
  },
  {
   "cell_type": "code",
   "execution_count": 27,
   "id": "c2053951-9367-4c9f-985c-b954bcfc1e60",
   "metadata": {},
   "outputs": [],
   "source": [
    "# Five types of inheritance : Single, Multiple, Multilevel, Hierarchical and Hybrid\n",
    "# Single : inherit properties from a single parent class, thus enabling code reusability\n",
    "class parent:\n",
    "    def parent_test1(self):\n",
    "        print(\"Parent class\")\n",
    "\n",
    "class child(parent):\n",
    "    def child_test2(self):\n",
    "        print(\"child class\")\n"
   ]
  },
  {
   "cell_type": "code",
   "execution_count": 28,
   "id": "eee6a281-a892-449e-80b1-3ad092890de3",
   "metadata": {},
   "outputs": [],
   "source": [
    "child_obj = child()"
   ]
  },
  {
   "cell_type": "code",
   "execution_count": 30,
   "id": "713f5bbc-09a1-49ee-b9e0-81e6da058208",
   "metadata": {},
   "outputs": [
    {
     "name": "stdout",
     "output_type": "stream",
     "text": [
      "Parent class\n"
     ]
    }
   ],
   "source": [
    "child_obj.parent_test1()"
   ]
  },
  {
   "cell_type": "code",
   "execution_count": 31,
   "id": "172acb8c-cd60-4bd6-aff4-a19aacd9760d",
   "metadata": {},
   "outputs": [
    {
     "name": "stdout",
     "output_type": "stream",
     "text": [
      "child class\n"
     ]
    }
   ],
   "source": [
    "child_obj.child_test2()"
   ]
  },
  {
   "cell_type": "code",
   "execution_count": 44,
   "id": "c81c9aa5-49ca-4987-bef8-af022785d743",
   "metadata": {},
   "outputs": [],
   "source": [
    "# Multiple : inherit properties from mulitple parent classes.\n",
    "class test1:\n",
    "    def call_test1(self):\n",
    "        print(\"1\")\n",
    "class test2:\n",
    "    def call_test2(self):\n",
    "        print(\"2\")\n",
    "class test3(test1, test2):\n",
    "    def call_test3(self):\n",
    "        print(\"3\")"
   ]
  },
  {
   "cell_type": "code",
   "execution_count": 33,
   "id": "e36f1d76-f5d9-4cf0-b1dc-488b6fc5a3e3",
   "metadata": {},
   "outputs": [],
   "source": [
    "obj_test3 = test3() # creating object in class test3"
   ]
  },
  {
   "cell_type": "code",
   "execution_count": 35,
   "id": "573b3dfe-f4d8-415f-8793-06948e633f12",
   "metadata": {},
   "outputs": [
    {
     "name": "stdout",
     "output_type": "stream",
     "text": [
      "1\n"
     ]
    }
   ],
   "source": [
    "obj_test3.call_test1()"
   ]
  },
  {
   "cell_type": "code",
   "execution_count": 36,
   "id": "d0a478f3-1b58-4002-90dd-ea6085733a7c",
   "metadata": {},
   "outputs": [
    {
     "name": "stdout",
     "output_type": "stream",
     "text": [
      "2\n"
     ]
    }
   ],
   "source": [
    "obj_test3.call_test2()"
   ]
  },
  {
   "cell_type": "code",
   "execution_count": 37,
   "id": "60855169-e325-49d7-be61-3e94d9be1ea3",
   "metadata": {},
   "outputs": [
    {
     "name": "stdout",
     "output_type": "stream",
     "text": [
      "3\n"
     ]
    }
   ],
   "source": [
    "obj_test3.call_test3()"
   ]
  },
  {
   "cell_type": "code",
   "execution_count": 40,
   "id": "3136ed3d-e9f4-4543-8520-a91e2b581857",
   "metadata": {},
   "outputs": [],
   "source": [
    "# Multilevel : features of the base class and the derived class are further inherited into the new derived class.\n",
    "class test4:\n",
    "    def call_test4(self):\n",
    "        print(\"test4\")\n",
    "\n",
    "class test5(test4):\n",
    "    def call_test5(self):\n",
    "        print(\"test5\")\n",
    "\n",
    "class test6(test5):\n",
    "    def call_test6(self):\n",
    "        print(\"test6\")\n",
    "              "
   ]
  },
  {
   "cell_type": "code",
   "execution_count": 41,
   "id": "4dac3a0a-db11-4386-bcfd-908ef6a742b5",
   "metadata": {},
   "outputs": [],
   "source": [
    "ob_test6 = test6()"
   ]
  },
  {
   "cell_type": "code",
   "execution_count": 42,
   "id": "05c2c3bc-9dd2-4997-a44d-34da7efb0d06",
   "metadata": {},
   "outputs": [
    {
     "name": "stdout",
     "output_type": "stream",
     "text": [
      "test4\n"
     ]
    }
   ],
   "source": [
    "ob_test6.call_test4()"
   ]
  },
  {
   "cell_type": "code",
   "execution_count": 43,
   "id": "fb95fa83-4435-4752-ab61-5315d1c6389c",
   "metadata": {},
   "outputs": [
    {
     "name": "stdout",
     "output_type": "stream",
     "text": [
      "test5\n"
     ]
    }
   ],
   "source": [
    "ob_test6.call_test5()"
   ]
  },
  {
   "cell_type": "code",
   "execution_count": 46,
   "id": "cd7f18e8-b6c6-4058-a9a9-c6fd4336160b",
   "metadata": {},
   "outputs": [],
   "source": [
    "# Hirarchical : Has single parent class and multiple derived class inheriting properties from a parent class.\n",
    "class test1:\n",
    "    def call_test1(self):\n",
    "        print(\"1\")\n",
    "class test2(test1):\n",
    "    def call_test2(self):\n",
    "        print(\"2\")\n",
    "class test3(test1):\n",
    "    def call_test3(self):\n",
    "        print(\"3\")"
   ]
  },
  {
   "cell_type": "code",
   "execution_count": 47,
   "id": "e1928be8-1c67-41c3-9ca2-bc045805c072",
   "metadata": {},
   "outputs": [],
   "source": [
    "ob_test2 = test2()"
   ]
  },
  {
   "cell_type": "code",
   "execution_count": 48,
   "id": "d982eaf0-6d63-42a4-8ef7-d0217f004b4a",
   "metadata": {},
   "outputs": [],
   "source": [
    "ob_test3 = test3()"
   ]
  },
  {
   "cell_type": "code",
   "execution_count": 49,
   "id": "793c6c8d-3c08-4f70-950e-55a2a9ff03f1",
   "metadata": {},
   "outputs": [
    {
     "name": "stdout",
     "output_type": "stream",
     "text": [
      "1\n"
     ]
    }
   ],
   "source": [
    "ob_test2.call_test1()"
   ]
  },
  {
   "cell_type": "code",
   "execution_count": 50,
   "id": "54c419d2-77d1-4263-8bff-9f4cef2b3269",
   "metadata": {},
   "outputs": [
    {
     "name": "stdout",
     "output_type": "stream",
     "text": [
      "3\n"
     ]
    }
   ],
   "source": [
    "ob_test3.call_test3()"
   ]
  },
  {
   "cell_type": "code",
   "execution_count": 55,
   "id": "cc326976-0891-45c8-9a8f-17a764deecd6",
   "metadata": {},
   "outputs": [],
   "source": [
    "# Hybrid : Has multiple parent class and multiple derived class inheriting properties from multiple parent classes.\n",
    "class test7:                          # parent class \n",
    "    def call_test7(self):\n",
    "        print(\"1\")\n",
    "class test8:                          # parent class \n",
    "    def call_test8(self):\n",
    "        print(\"2\")\n",
    "class test9(test7,test8):             # derived class multiple inheritance\n",
    "    def call_test9(self):\n",
    "        print(\"3\")\n",
    "class test10(test8):                  # derived class multilevel inheritance\n",
    "    def call_test10(self):\n",
    "        print(\"4\")\n",
    "class test11(test10, test7):           # derived class multilevel and hybrid inheritance\n",
    "    def call_test11(self):\n",
    "        print(\"5\")"
   ]
  },
  {
   "cell_type": "code",
   "execution_count": 56,
   "id": "47a3774e-686c-4ea8-90d8-932ef645fb73",
   "metadata": {},
   "outputs": [],
   "source": [
    "ob_test11 = test11()"
   ]
  },
  {
   "cell_type": "code",
   "execution_count": 57,
   "id": "27dcdf05-d7f4-4cbd-b827-84e959861492",
   "metadata": {},
   "outputs": [
    {
     "name": "stdout",
     "output_type": "stream",
     "text": [
      "1\n"
     ]
    }
   ],
   "source": [
    "ob_test11.call_test7()"
   ]
  },
  {
   "cell_type": "code",
   "execution_count": null,
   "id": "a9575540-72cf-4fc6-b5bd-baaeee43b114",
   "metadata": {},
   "outputs": [],
   "source": []
  }
 ],
 "metadata": {
  "kernelspec": {
   "display_name": "Python 3 (ipykernel)",
   "language": "python",
   "name": "python3"
  },
  "language_info": {
   "codemirror_mode": {
    "name": "ipython",
    "version": 3
   },
   "file_extension": ".py",
   "mimetype": "text/x-python",
   "name": "python",
   "nbconvert_exporter": "python",
   "pygments_lexer": "ipython3",
   "version": "3.10.8"
  }
 },
 "nbformat": 4,
 "nbformat_minor": 5
}
