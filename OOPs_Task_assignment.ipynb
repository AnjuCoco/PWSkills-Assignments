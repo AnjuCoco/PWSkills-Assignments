{
 "cells": [
  {
   "cell_type": "code",
   "execution_count": 1,
   "id": "3ddeac73-4d0e-4c6d-bf5b-6ee92b0fbf0e",
   "metadata": {},
   "outputs": [],
   "source": [
    "# Q1, Create a vehicle class with an init method having \n",
    "# instance variables as name_of_vehicle, max_speed and average_of_vehicle."
   ]
  },
  {
   "cell_type": "code",
   "execution_count": 3,
   "id": "d6e0b7c4-45a0-4523-ab36-39b547968e4c",
   "metadata": {},
   "outputs": [],
   "source": [
    "class vehicle:\n",
    "    def __init__(self, name_of_vehicle, max_speed, average_of_vehicle):\n",
    "        self.name_of_vehicle = name_of_vehicle\n",
    "        self.max_speed = max_speed\n",
    "        self.average_of_vehicle = average_of_vehicle"
   ]
  },
  {
   "cell_type": "code",
   "execution_count": 4,
   "id": "e57da916-5ef9-4ab4-be7e-8cf654150085",
   "metadata": {},
   "outputs": [],
   "source": [
    "ob1 = vehicle(\"Toyota\", 100, 14)"
   ]
  },
  {
   "cell_type": "code",
   "execution_count": 7,
   "id": "88121e46-0f02-4c45-87e9-945e1f09c683",
   "metadata": {},
   "outputs": [
    {
     "data": {
      "text/plain": [
       "14"
      ]
     },
     "execution_count": 7,
     "metadata": {},
     "output_type": "execute_result"
    }
   ],
   "source": [
    "ob1.average_of_vehicle"
   ]
  },
  {
   "cell_type": "code",
   "execution_count": 8,
   "id": "f09e2e9e-27d8-49d0-97d1-48b6c14cd745",
   "metadata": {},
   "outputs": [
    {
     "data": {
      "text/plain": [
       "'Toyota'"
      ]
     },
     "execution_count": 8,
     "metadata": {},
     "output_type": "execute_result"
    }
   ],
   "source": [
    "ob1.name_of_vehicle"
   ]
  },
  {
   "cell_type": "code",
   "execution_count": 9,
   "id": "a4fd770d-4646-4d21-8896-4aa45b7dbcc9",
   "metadata": {},
   "outputs": [
    {
     "data": {
      "text/plain": [
       "100"
      ]
     },
     "execution_count": 9,
     "metadata": {},
     "output_type": "execute_result"
    }
   ],
   "source": [
    "ob1.max_speed"
   ]
  },
  {
   "cell_type": "code",
   "execution_count": 10,
   "id": "a1abe2d8-4da4-4ad4-b567-bf4e691f011d",
   "metadata": {},
   "outputs": [],
   "source": [
    "# Q2. Create a child class car from the vehicle class created in Que 1, which will inherit the vehicle class.\n",
    "# Create a method named seating_capacity which takes capacity as an argument and returns the name of\n",
    "# the vehicle and its seating capacity."
   ]
  },
  {
   "cell_type": "code",
   "execution_count": 26,
   "id": "be26906d-f782-41c6-9c1f-bfd133e0a387",
   "metadata": {},
   "outputs": [],
   "source": [
    "class vehicle:\n",
    "    def __init__(self, name_of_vehicle, max_speed, average_of_vehicle):\n",
    "        self.name_of_vehicle = name_of_vehicle\n",
    "        self.max_speed = max_speed\n",
    "        self.average_of_vehicle = average_of_vehicle\n",
    "        \n",
    "class car(vehicle):\n",
    "    def seating_capacity(self, capacity):\n",
    "        self.capacity = capacity\n",
    "        return self.name_of_vehicle, self.capacity"
   ]
  },
  {
   "cell_type": "code",
   "execution_count": 27,
   "id": "ed4bc672-5d5d-4a87-bb30-b5f8fc11dead",
   "metadata": {},
   "outputs": [],
   "source": [
    "ob2 = car(\"BMW\", 120, 12)"
   ]
  },
  {
   "cell_type": "code",
   "execution_count": 28,
   "id": "64f322f1-dbee-4820-9983-7b6e3113943d",
   "metadata": {},
   "outputs": [
    {
     "data": {
      "text/plain": [
       "('BMW', 4)"
      ]
     },
     "execution_count": 28,
     "metadata": {},
     "output_type": "execute_result"
    }
   ],
   "source": [
    "ob2.seating_capacity(4)"
   ]
  },
  {
   "cell_type": "code",
   "execution_count": 29,
   "id": "2d84343b-fdb2-4049-b3dd-1aaf0ef780bd",
   "metadata": {},
   "outputs": [],
   "source": [
    "#Q3. What is multiple inheritance? Write a python code to demonstrate multiple inheritance."
   ]
  },
  {
   "cell_type": "code",
   "execution_count": 30,
   "id": "381710ad-1f0d-40da-8c6e-2e94fa9c3f0c",
   "metadata": {},
   "outputs": [],
   "source": [
    "# When a class can be derived from more than one base class this type of inheritance is called multiple inheritances. \n",
    "# In multiple inheritances,  all the features of the base classes are inherited into the derived class."
   ]
  },
  {
   "cell_type": "code",
   "execution_count": 31,
   "id": "8e38d2e7-dc9c-46f4-94cb-fdbca0a5668f",
   "metadata": {},
   "outputs": [],
   "source": [
    "class test1:\n",
    "    def call_test1(self):\n",
    "        print(\"1\")\n",
    "class test2:\n",
    "    def call_test2(self):\n",
    "        print(\"2\")\n",
    "class test3(test1, test2):\n",
    "    def call_test3(self):\n",
    "        print(\"3\")"
   ]
  },
  {
   "cell_type": "code",
   "execution_count": 32,
   "id": "dbf4b47f-6651-4a6c-9f11-7974fe068612",
   "metadata": {},
   "outputs": [],
   "source": [
    "obj_test3 = test3() # creating object in class test3"
   ]
  },
  {
   "cell_type": "code",
   "execution_count": 33,
   "id": "45776786-9ceb-4275-be0c-cc6d647921fd",
   "metadata": {},
   "outputs": [
    {
     "name": "stdout",
     "output_type": "stream",
     "text": [
      "1\n"
     ]
    }
   ],
   "source": [
    "obj_test3.call_test1() # directly inheriting char. of test1 class through test3"
   ]
  },
  {
   "cell_type": "code",
   "execution_count": 34,
   "id": "a341e205-aec6-4fa6-b1b0-4e8e22ae2a5e",
   "metadata": {},
   "outputs": [
    {
     "name": "stdout",
     "output_type": "stream",
     "text": [
      "2\n"
     ]
    }
   ],
   "source": [
    "obj_test3.call_test2() # directly inheriting char. of test1 class through test3"
   ]
  },
  {
   "cell_type": "code",
   "execution_count": 35,
   "id": "bfe892fd-a61e-4904-b864-e0e3e3cd18fc",
   "metadata": {},
   "outputs": [
    {
     "name": "stdout",
     "output_type": "stream",
     "text": [
      "3\n"
     ]
    }
   ],
   "source": [
    "obj_test3.call_test3()"
   ]
  },
  {
   "cell_type": "code",
   "execution_count": null,
   "id": "cbdabde6-2d75-4825-8a9d-8fbdaed303c1",
   "metadata": {},
   "outputs": [],
   "source": [
    "# Q4. What are getter and setter in python? Create a class and \n",
    "# create a getter and a setter method in this class."
   ]
  },
  {
   "cell_type": "code",
   "execution_count": 36,
   "id": "c189feed-1fa9-4afc-be12-705db84ff0f5",
   "metadata": {},
   "outputs": [],
   "source": [
    "# Getter and Setter are the property decorators in the python \n",
    "# Getter: A method that allows you to access an attribute in a given class. \n",
    "# Setter: A method that allows you to set or mutate the value of an attribute in a class"
   ]
  },
  {
   "cell_type": "code",
   "execution_count": 54,
   "id": "ab3310c5-1de5-47de-a4c9-ad427916ae5a",
   "metadata": {},
   "outputs": [],
   "source": [
    "class vehicle:\n",
    "    def __init__(self, name_of_vehicle, max_speed, average_of_vehicle):\n",
    "        self.name_of_vehicle = name_of_vehicle\n",
    "        self.__max_speed = max_speed\n",
    "        self.average_of_vehicle = average_of_vehicle\n",
    "    \n",
    "    @property\n",
    "    def max_speed_access(self):\n",
    "        return self.__max_speed\n",
    "    \n",
    "    @max_speed_access.setter\n",
    "    def max_speed_set(self, speed):\n",
    "        if speed <= 215:\n",
    "            pass\n",
    "        else: \n",
    "            self.__max_speed = speed"
   ]
  },
  {
   "cell_type": "code",
   "execution_count": 47,
   "id": "14aa04ac-33d3-4f93-aaa9-f01b5eaca6fa",
   "metadata": {},
   "outputs": [],
   "source": [
    "ob3 = vehicle(\"ferrari\", 215, 9)"
   ]
  },
  {
   "cell_type": "code",
   "execution_count": 48,
   "id": "1b286ca6-9554-4205-b66b-591af627be2b",
   "metadata": {},
   "outputs": [
    {
     "data": {
      "text/plain": [
       "215"
      ]
     },
     "execution_count": 48,
     "metadata": {},
     "output_type": "execute_result"
    }
   ],
   "source": [
    "ob3.max_speed_access"
   ]
  },
  {
   "cell_type": "code",
   "execution_count": 50,
   "id": "aa40962b-ca58-41da-9c6c-bd608edb138f",
   "metadata": {},
   "outputs": [
    {
     "data": {
      "text/plain": [
       "'ferrari'"
      ]
     },
     "execution_count": 50,
     "metadata": {},
     "output_type": "execute_result"
    }
   ],
   "source": [
    "ob3.name_of_vehicle"
   ]
  },
  {
   "cell_type": "code",
   "execution_count": 55,
   "id": "a05beabe-8eea-4003-af85-307ed4d08f4f",
   "metadata": {},
   "outputs": [
    {
     "ename": "TypeError",
     "evalue": "'int' object is not callable",
     "output_type": "error",
     "traceback": [
      "\u001b[0;31m---------------------------------------------------------------------------\u001b[0m",
      "\u001b[0;31mTypeError\u001b[0m                                 Traceback (most recent call last)",
      "Cell \u001b[0;32mIn[55], line 1\u001b[0m\n\u001b[0;32m----> 1\u001b[0m \u001b[43mob3\u001b[49m\u001b[38;5;241;43m.\u001b[39;49m\u001b[43mmax_speed_set\u001b[49m\u001b[43m(\u001b[49m\u001b[38;5;241;43m100\u001b[39;49m\u001b[43m)\u001b[49m\n",
      "\u001b[0;31mTypeError\u001b[0m: 'int' object is not callable"
     ]
    }
   ],
   "source": [
    "ob3.max_speed_set(100)"
   ]
  },
  {
   "cell_type": "code",
   "execution_count": 56,
   "id": "9f92bab7-dea3-4eda-b6c9-01134a2c9ba5",
   "metadata": {},
   "outputs": [],
   "source": [
    "# need help in understanding the error"
   ]
  },
  {
   "cell_type": "code",
   "execution_count": 57,
   "id": "49e32f60-8340-4c87-a2eb-9a9c8a266c57",
   "metadata": {},
   "outputs": [],
   "source": [
    "# Q5.What is method overriding in python? Write a python code to demonstrate method overriding."
   ]
  },
  {
   "cell_type": "code",
   "execution_count": 58,
   "id": "038a3b5f-8385-4d63-9f7e-2af86d7b64c8",
   "metadata": {},
   "outputs": [],
   "source": [
    "# Method overriding in Python is when you have two methods with the same name that each perform different tasks. \n",
    "# This is an important feature of inheritance in Python.\n",
    "# In method overriding,the child class has access to the properties and functions of the parent class method \n",
    "# while also extending additional functions of its own to the method. \n",
    "# If a method in a superclass coincides with that of a subclass, \n",
    "# then the subclass is said to override the superclass."
   ]
  },
  {
   "cell_type": "code",
   "execution_count": 64,
   "id": "926392e4-eea1-48c9-a2b7-700666e150c7",
   "metadata": {},
   "outputs": [],
   "source": [
    "class animal:\n",
    "    def walk(self):\n",
    "        return(\"Hello, I am the parent class\")\n",
    "class dog(animal): # inheriting animal class\n",
    "    def walk(self):\n",
    "        print(\"Hello, I am a child class, Dog\")\n",
    "class cat(animal):\n",
    "     def walk(self):\n",
    "        print(\"Hello, I am a child class, Cat\") "
   ]
  },
  {
   "cell_type": "code",
   "execution_count": 61,
   "id": "7db06291-5a78-4b31-bdac-c5cdd54947b1",
   "metadata": {},
   "outputs": [],
   "source": [
    "ob4 = animal()"
   ]
  },
  {
   "cell_type": "code",
   "execution_count": 67,
   "id": "db2f0272-46dd-429a-887b-c59e55721acb",
   "metadata": {},
   "outputs": [
    {
     "name": "stdout",
     "output_type": "stream",
     "text": [
      "Hello, I am the parent class\n"
     ]
    }
   ],
   "source": [
    "ob4.walk()"
   ]
  },
  {
   "cell_type": "code",
   "execution_count": 63,
   "id": "81a4ef44-c1ba-4a25-8792-d680746e4e90",
   "metadata": {},
   "outputs": [],
   "source": [
    "ob5 = dog()"
   ]
  },
  {
   "cell_type": "code",
   "execution_count": 68,
   "id": "a0ac5c30-cd9e-4aea-b5e7-51e6f868e378",
   "metadata": {},
   "outputs": [
    {
     "name": "stdout",
     "output_type": "stream",
     "text": [
      "Hello, I am a child class, Dog\n"
     ]
    }
   ],
   "source": [
    "ob5.walk() # overriding walk function in parent class"
   ]
  },
  {
   "cell_type": "code",
   "execution_count": 69,
   "id": "1fb71733-900d-479b-880b-364743d5c0a3",
   "metadata": {},
   "outputs": [],
   "source": [
    "ob6 = cat()"
   ]
  },
  {
   "cell_type": "code",
   "execution_count": 71,
   "id": "3c990277-1330-43b0-b064-72521ca789c1",
   "metadata": {},
   "outputs": [
    {
     "name": "stdout",
     "output_type": "stream",
     "text": [
      "Hello, I am a child class, Cat\n"
     ]
    }
   ],
   "source": [
    "ob6.walk() # overriding walk function in parent class"
   ]
  },
  {
   "cell_type": "code",
   "execution_count": null,
   "id": "4d5da58f-fd28-408c-8e6d-51e335cdd3ff",
   "metadata": {},
   "outputs": [],
   "source": []
  }
 ],
 "metadata": {
  "kernelspec": {
   "display_name": "Python 3 (ipykernel)",
   "language": "python",
   "name": "python3"
  },
  "language_info": {
   "codemirror_mode": {
    "name": "ipython",
    "version": 3
   },
   "file_extension": ".py",
   "mimetype": "text/x-python",
   "name": "python",
   "nbconvert_exporter": "python",
   "pygments_lexer": "ipython3",
   "version": "3.10.8"
  }
 },
 "nbformat": 4,
 "nbformat_minor": 5
}
