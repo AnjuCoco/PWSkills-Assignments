{
 "cells": [
  {
   "cell_type": "code",
   "execution_count": 1,
   "id": "83e3565e-5f19-44d6-a204-75cbec4f4183",
   "metadata": {},
   "outputs": [],
   "source": [
    "# Q1. What is multiprocessing in python? Why is it useful?"
   ]
  },
  {
   "cell_type": "code",
   "execution_count": 5,
   "id": "3a907c36-e441-47eb-968f-2820efa7b35a",
   "metadata": {},
   "outputs": [],
   "source": [
    "# Ans - Multiprocessing is a bulit-in package in Python which allows the system to run multiple processes simultaneously. \n",
    "# It utilizes two or more central processing units of a computer. \n",
    "# It enables system to support multiple CPUs and to distribute work among them.\n",
    "# This results in faster execution of program and it also helps while handling larger datasets / tasks"
   ]
  },
  {
   "cell_type": "code",
   "execution_count": 3,
   "id": "a0f69392-1779-498b-8bc8-2940b6a56866",
   "metadata": {},
   "outputs": [],
   "source": [
    "# Q2. What are the differences between multiprocessing and multithreading?"
   ]
  },
  {
   "cell_type": "code",
   "execution_count": 4,
   "id": "b6318d6c-5bf7-4dd4-ab3e-4bd1cc8ca6cb",
   "metadata": {},
   "outputs": [],
   "source": [
    "# Multiprocessing allows the system to run multiple processes simultaneously, wherein each processor can run one or more threads.\n",
    "# Multithreading is the ability of a processor to execute multiple threads concurrently, wherein each thread runs a process."
   ]
  },
  {
   "cell_type": "code",
   "execution_count": 6,
   "id": "e025c858-fd9c-4328-9f37-7d63b08444dc",
   "metadata": {},
   "outputs": [],
   "source": [
    "# Q3. Write a python code to create a process using the multiprocessing module."
   ]
  },
  {
   "cell_type": "code",
   "execution_count": 9,
   "id": "ac06da2b-d63f-4fb8-b46f-b394d1b4d231",
   "metadata": {},
   "outputs": [
    {
     "name": "stdout",
     "output_type": "stream",
     "text": [
      "This is main program\n",
      "This is my mutliprocessing page\n"
     ]
    }
   ],
   "source": [
    "# Ans - \n",
    "#  need to import multiprocessing module\n",
    "import multiprocessing\n",
    "\n",
    "# to define a function to be called during multiprocessing\n",
    "def test():\n",
    "    print(\"This is my mutliprocessing page\")\n",
    "\n",
    "# invoking Python main module\n",
    "if __name__ ==\"__main__\":\n",
    "    # code to create a process using mutliprocessing module\n",
    "    m = multiprocessing.Process(target = test)\n",
    "    print(\"This is main program\")\n",
    "    # to start the child process\n",
    "    m.start()\n",
    "    # to wait till the end of completion of child process and further release all resources\n",
    "    m.join()"
   ]
  },
  {
   "cell_type": "code",
   "execution_count": 10,
   "id": "8eddb476-fa45-47e6-873e-9e4cb285654b",
   "metadata": {},
   "outputs": [],
   "source": [
    "# Q4. What is a multiprocessing pool in python? Why is it used?"
   ]
  },
  {
   "cell_type": "code",
   "execution_count": 4,
   "id": "50bc5426-3c6b-49fe-97e8-02cc2bd18b40",
   "metadata": {},
   "outputs": [],
   "source": [
    "# Ans - Pool class in multiprocessing is ability of system to handle an enormous number of processes. \n",
    "# The Pool class represents a pool of worker processes.\n",
    "# It allows you to run multiple jobs per process due to its ability to queue the jobs.\n",
    "#  Pool can be used for parallel execution of a function across multiple input values."
   ]
  },
  {
   "cell_type": "code",
   "execution_count": 3,
   "id": "09c2c2fc-badf-477c-8c63-c5427e48cf55",
   "metadata": {},
   "outputs": [],
   "source": [
    "# Q5. How can we create a pool of worker processes in python using the multiprocessing module?"
   ]
  },
  {
   "cell_type": "code",
   "execution_count": 12,
   "id": "ab428183-14c1-4cb8-965b-d91f17bc4c8d",
   "metadata": {},
   "outputs": [
    {
     "name": "stdout",
     "output_type": "stream",
     "text": [
      "[27, 512, 1000, 15625]\n"
     ]
    }
   ],
   "source": [
    "# Program to create a pool of worker processes\n",
    "# import multiprocessing module\n",
    "import multiprocessing\n",
    "\n",
    "# create a function which is to be called during process. Here we are creating a function for cube of numbers\n",
    "def cube(num):\n",
    "    return num**3\n",
    "\n",
    "# invoking python main module\n",
    "if __name__ == \"__main__\":\n",
    "    # creating multiprocessing pool function \n",
    "    with multiprocessing.Pool(7) as pool: \n",
    "        # creating object to map multiple inputs\n",
    "        op = pool.map(cube, [3, 8, 10, 25])\n",
    "        print(op)"
   ]
  },
  {
   "cell_type": "code",
   "execution_count": 13,
   "id": "52f37a05-33c6-4fb5-a34b-0d5a8c49dfd5",
   "metadata": {},
   "outputs": [],
   "source": [
    "# Q6. Write a python program to create 4 processes, \n",
    "# each process should print a different number using the multiprocessing module in python."
   ]
  },
  {
   "cell_type": "code",
   "execution_count": 41,
   "id": "80c3f3ec-a6dc-42fc-afed-6869f4e14cad",
   "metadata": {},
   "outputs": [
    {
     "name": "stdout",
     "output_type": "stream",
     "text": [
      "Square of number 1 is 1\n",
      "Square of number 2 is 4\n",
      "Square of number 3 is 9\n",
      "Square of number 4 is 16\n",
      "Square of number 5 is 25\n",
      "cube of number 5 is 125\n",
      "cube of number 3 is 27\n",
      "cube of number 9 is 729\n",
      "cube of number 10 is 1000\n",
      "negative of number 1000 is -1000\n",
      "Given number is 23\n",
      "Given number is 56\n",
      "Given number is 88\n"
     ]
    }
   ],
   "source": [
    "# importing three modules logging, multiprocessing and time \n",
    "import logging\n",
    "import multiprocessing\n",
    "import time\n",
    "\n",
    "# creating a log file to maintain the records\n",
    "logging.basicConfig(filename = \"list1.log\",level = logging.INFO)\n",
    "\n",
    "# defining 4 different functions to be called during processes\n",
    "def square(num):\n",
    "    logging.info(\"In mp1, logging the number {} for sqaure\".format(num))\n",
    "    logging.info(\"Square of number {} is {}\".format(num, num**2))\n",
    "    print(\"Square of number {} is {}\".format(num, num**2))\n",
    "    time.sleep(4)\n",
    "    \n",
    "def cube(num):\n",
    "    logging.info(\"In mp2, logging the number {} for cube\".format(num))\n",
    "    logging.info(\"Cube of number {} is {}\".format(num, num**3))\n",
    "    print(\"cube of number {} is {}\".format(num, num**3))\n",
    "    time.sleep(1)\n",
    "\n",
    "def negative(num):\n",
    "    logging.info(\"In mp3, logging the number {} for its negative\".format(num))\n",
    "    logging.info(\"negative of number {} is {}\".format(num, -(num)))\n",
    "    print(\"negative of number {} is {}\".format(num, -(num)))\n",
    "    \n",
    "def number(num):\n",
    "    logging.info(\"In mp4, logging the number {}\".format(num))\n",
    "    logging.info(\"Given number is {}\".format(num))\n",
    "    print(\"Given number is {}\".format(num))\n",
    "\n",
    "# invoking python main module    \n",
    "if __name__ ==\"__main__\":\n",
    "    # creating 4 different processes using multiprocessing module\n",
    "    mp1 = [multiprocessing.Process(target = square, args = (i,)) for i in range(1,6)]\n",
    "    mp2 = [multiprocessing.Process(target = cube, args = (i,)) for i in [5,3,9,10]]\n",
    "    mp3 = multiprocessing.Process(target = negative, args = (1000,))\n",
    "    mp4 = [multiprocessing.Process(target = number, args = (i,)) for i in [23,56,88]]\n",
    "    \n",
    "    # starting 4 processes\n",
    "    for i in mp1:\n",
    "        i.start()\n",
    "    for j in mp2:\n",
    "        j.start()\n",
    "    mp3.start()\n",
    "    for k in mp4:\n",
    "        k.start()\n",
    "    \n",
    "    # waiting for each process to complete and then releasing the resources\n",
    "    for i in mp1:\n",
    "        i.join()\n",
    "    for j in mp2:\n",
    "        j.join()\n",
    "    mp3.join()\n",
    "    for k in mp4:\n",
    "        k.join()\n",
    "        \n",
    "# closing log file\n",
    "logging.shutdown()"
   ]
  },
  {
   "cell_type": "code",
   "execution_count": null,
   "id": "6ba6c0e5-79cb-4ae1-bded-207dd6581322",
   "metadata": {},
   "outputs": [],
   "source": []
  }
 ],
 "metadata": {
  "kernelspec": {
   "display_name": "Python 3 (ipykernel)",
   "language": "python",
   "name": "python3"
  },
  "language_info": {
   "codemirror_mode": {
    "name": "ipython",
    "version": 3
   },
   "file_extension": ".py",
   "mimetype": "text/x-python",
   "name": "python",
   "nbconvert_exporter": "python",
   "pygments_lexer": "ipython3",
   "version": "3.10.8"
  }
 },
 "nbformat": 4,
 "nbformat_minor": 5
}
