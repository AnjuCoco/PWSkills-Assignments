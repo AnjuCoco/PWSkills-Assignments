{
 "cells": [
  {
   "cell_type": "code",
   "execution_count": 1,
   "id": "c4b4ca8e-7068-49b7-b17e-2125380cb710",
   "metadata": {},
   "outputs": [],
   "source": [
    "# Q1. What is multithreading in python? Why is it used? Name the module used to handle threads in python"
   ]
  },
  {
   "cell_type": "code",
   "execution_count": 2,
   "id": "ed0f8e72-9e5c-4f23-bd5d-f5d3c9c52ef2",
   "metadata": {},
   "outputs": [],
   "source": [
    "# Ans -multithreading is a way of achieving multitasking.\n",
    "# Multithreading is defined as the ability of a processor to execute multiple threads concurrently.\n",
    "# Multithreading is used to optimize code and it streamlines the efficient utilization of resources as the threads share the same memory \n",
    "# and data space. \n",
    "# It also allows the concurrent appearance of multiple tasks and reduces the response time. \n",
    "# This improves the performance.\n",
    "# Module used to handle threads in python is 'threading'"
   ]
  },
  {
   "cell_type": "code",
   "execution_count": 3,
   "id": "52781bc2-48e0-4e23-b93e-2e81fd4d7c0f",
   "metadata": {},
   "outputs": [],
   "source": [
    "# Q2. Why threading module used? Write the use of the following functions\n",
    "# activeCount()\n",
    "# currentThread()\n",
    "# enumerate()"
   ]
  },
  {
   "cell_type": "code",
   "execution_count": 4,
   "id": "5c4d5daa-e5db-435b-8b9e-460bc0372b1a",
   "metadata": {},
   "outputs": [],
   "source": [
    "# Ans - Python threading allows you to have different parts of your program run concurrently and can simplify your design.\n",
    "# Thus Threading module helps in improving the perfromance by reducing response time and carrying out multiple tasks concurrently.\n"
   ]
  },
  {
   "cell_type": "code",
   "execution_count": 6,
   "id": "2795b0c4-bbdb-46b3-b806-281e089677fe",
   "metadata": {},
   "outputs": [],
   "source": [
    "# activeCount() - used to count the currently active or running threads.\n",
    "# syntax - threading.activeCount()"
   ]
  },
  {
   "cell_type": "code",
   "execution_count": 9,
   "id": "9161bddf-ca5f-479a-a308-4e3ce7cef13b",
   "metadata": {},
   "outputs": [],
   "source": [
    "# currentThread() - Returns the number of current thread objects in the caller's thread.\n",
    "# syntax - threading.currentThread()"
   ]
  },
  {
   "cell_type": "code",
   "execution_count": 8,
   "id": "54995766-cc71-4109-8b32-6c0a2137fb72",
   "metadata": {},
   "outputs": [],
   "source": [
    "# enumerate() - Returns a list of all thread objects that are currently active.\n",
    "# syntax - control. threading.enumerate() "
   ]
  },
  {
   "cell_type": "code",
   "execution_count": 10,
   "id": "7e01e243-325f-473a-8e22-afcd9568a344",
   "metadata": {},
   "outputs": [],
   "source": [
    "# Q3. Explain the following functions \n",
    "# run()\n",
    "# start()\n",
    "# join()\n",
    "# isAlive()"
   ]
  },
  {
   "cell_type": "code",
   "execution_count": 11,
   "id": "b12ecfdb-0c9a-4f2f-809b-d44cd9c06997",
   "metadata": {},
   "outputs": [],
   "source": [
    "# Ans - run() - executes any target function belonging to a given thread object that is now active.\n",
    "# It normally executes in the background after the . start() method is invoked.\n"
   ]
  },
  {
   "cell_type": "code",
   "execution_count": 12,
   "id": "b124c817-3209-465e-a783-37f5d6ac24ad",
   "metadata": {},
   "outputs": [],
   "source": [
    "# start() - it is used to start a thread's activity. \n",
    "#  This method calls the run() method internally which then executes the target method. T"
   ]
  },
  {
   "cell_type": "code",
   "execution_count": 13,
   "id": "fea2793c-4e2a-4f76-b441-4e377eab98c9",
   "metadata": {},
   "outputs": [],
   "source": [
    "# join() - is used to to join elements of the sequence separated by a string separator.\n",
    "# ensure that the first thread gets over before taking up the other thread."
   ]
  },
  {
   "cell_type": "code",
   "execution_count": 14,
   "id": "edd9e900-1549-418c-80b7-4fd45a8b074c",
   "metadata": {},
   "outputs": [],
   "source": [
    "# isAlive() - tests whether the thread is alive.ie, it is still running or not. \n",
    "# This method returns True before the run() starts until just after the run() method is executed."
   ]
  },
  {
   "cell_type": "code",
   "execution_count": 15,
   "id": "3b9de25a-bbd8-4ce3-92c7-7b6e68971f62",
   "metadata": {},
   "outputs": [],
   "source": [
    "# Q4 Write a python program to create two threads. Thread one must print the list of squares and\n",
    "# thread two must print the list of cubes"
   ]
  },
  {
   "cell_type": "code",
   "execution_count": 2,
   "id": "e575d213-d869-4840-b996-5c4f274091bc",
   "metadata": {},
   "outputs": [],
   "source": [
    "# importing threading module\n",
    "import logging\n",
    "import threading"
   ]
  },
  {
   "cell_type": "code",
   "execution_count": 5,
   "id": "c0f0d491-4b10-4f0b-bff9-cbc1143f5603",
   "metadata": {},
   "outputs": [
    {
     "name": "stdout",
     "output_type": "stream",
     "text": [
      "Sqaure of number 10 is 100\n",
      "Sqaure of number 5 is 25\n",
      "Sqaure of number 9 is 81\n",
      "Cube of number 1 is 1\n",
      "Cube of number 2 is 8\n",
      "Cube of number 3 is 27\n",
      "Cube of number 4 is 64\n",
      "Cube of number 5 is 125\n",
      "Cube of number 6 is 216\n",
      "Cube of number 7 is 343\n",
      "Cube of number 8 is 512\n",
      "Cube of number 9 is 729\n",
      "Cube of number 10 is 1000\n"
     ]
    }
   ],
   "source": [
    "logging.basicConfig(filename ='list.log', level = logging.INFO) \n",
    "\n",
    "# defining square and cube functions\n",
    "def print_square(num):\n",
    "    logging.info(\"This is thread1, logging the number {} for sqaure\".format(num))\n",
    "    print(\"Sqaure of number {} is {}\".format(num, num**2))\n",
    "\n",
    "\n",
    "def print_cube(num):\n",
    "    logging.info(\"This is thread2, logging the number {} for cube\".format(num))\n",
    "    print(\"Cube of number {} is {}\".format(num,num**3))\n",
    "    \n",
    "# invoking python main module\n",
    "thread1 = [threading.Thread(target = print_square, args = (i,)) for i in [10, 5, 9]]\n",
    "thread2 = [threading.Thread(target = print_cube, args = (i,)) for i in range(1, 11)]\n",
    "\n",
    "for i in thread1:\n",
    "    logging.info(\"This is start of thread1 for number {}\".format(i))\n",
    "    i.start()\n",
    "\n",
    "for j in thread2:\n",
    "    logging.info(\"This is start of thread2 for number {}\".format(j))\n",
    "    j.start()\n",
    "\n",
    "logging.shutdown()"
   ]
  },
  {
   "cell_type": "code",
   "execution_count": 1,
   "id": "10c7b782-afc2-4088-aa6d-4ab05390a6cd",
   "metadata": {},
   "outputs": [],
   "source": [
    "# Q5. State advantages and disadvantages of multithreading"
   ]
  },
  {
   "cell_type": "code",
   "execution_count": 2,
   "id": "b48ef4c3-91aa-497d-bb45-8a2618189dc3",
   "metadata": {},
   "outputs": [],
   "source": [
    "# Ans - Advantages of Multithreading:\n",
    "# 1. As we are aware that multithreading helps in doing multitasking, this inturn is used to optimize the codes. \n",
    "# 2. It streamlines the efficient utilization of resources as the threads share the same memory and data space. \n",
    "# 3. It also allows the concurrent appearance of multiple tasks and reduces the response time. \n",
    "# 4. This improves the performance.\n",
    "# Disadvantages - \n",
    "# 1. Writing threading codes are complex and difficulity level of writing overall program increases\n",
    "# 2. Debugging and testing becomes complex.\n",
    "# 3. The task of managing concurrency among threads is difficult and \n",
    "# has the potential to introduce new problems into an application."
   ]
  },
  {
   "cell_type": "code",
   "execution_count": 3,
   "id": "7ba60eb8-80cd-49d2-ad8b-f51422b9801a",
   "metadata": {},
   "outputs": [],
   "source": [
    "# Q6. Explain deadlocks and race conditions."
   ]
  },
  {
   "cell_type": "code",
   "execution_count": 9,
   "id": "8400be82-3511-445d-89d4-671dc8368e39",
   "metadata": {},
   "outputs": [],
   "source": [
    "# Ans - Race condition: 1. A race condition occurs when two threads access a shared variable at the same time. \n",
    "# 2. The first thread reads the variable, and the second thread reads the same value from the variable.\n",
    "# Eventually, two threads compete with each other and try to complete a task before each other.\n",
    "# this condition may further lead to deadlock condition."
   ]
  },
  {
   "cell_type": "code",
   "execution_count": 10,
   "id": "85574f2d-187a-4f8c-ab57-1a9bfd3a64d6",
   "metadata": {},
   "outputs": [],
   "source": [
    "# A deadlock is a situation in which two computer programs sharing the same resource are effectively preventing each other from accessing the resource. \n",
    "# thereby resulting in both programs ceasing to function. "
   ]
  },
  {
   "cell_type": "code",
   "execution_count": null,
   "id": "266bf5c1-e79f-4c55-ab3d-04ee79bfb7ae",
   "metadata": {},
   "outputs": [],
   "source": []
  }
 ],
 "metadata": {
  "kernelspec": {
   "display_name": "Python 3 (ipykernel)",
   "language": "python",
   "name": "python3"
  },
  "language_info": {
   "codemirror_mode": {
    "name": "ipython",
    "version": 3
   },
   "file_extension": ".py",
   "mimetype": "text/x-python",
   "name": "python",
   "nbconvert_exporter": "python",
   "pygments_lexer": "ipython3",
   "version": "3.10.8"
  }
 },
 "nbformat": 4,
 "nbformat_minor": 5
}
