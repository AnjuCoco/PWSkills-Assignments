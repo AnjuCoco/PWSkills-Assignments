{
 "cells": [
  {
   "cell_type": "code",
   "execution_count": 1,
   "id": "f2d7a866-f49a-4d81-b59b-dfab9c565b36",
   "metadata": {},
   "outputs": [],
   "source": [
    "# import numpy as np\n",
    "# list_ = [ ‘1’ , ’2’ , ‘3’ , ‘4’ , ‘5’ ]\n",
    "# array_list = np.array(object = list_)"
   ]
  },
  {
   "cell_type": "code",
   "execution_count": 2,
   "id": "c2f19a11-5219-4d91-bbc3-ccc16fb639c7",
   "metadata": {},
   "outputs": [],
   "source": [
    "# Q1. Is there any difference in the data type of variables list_ and array_list? \n",
    "# If there is then write a code to print the data types of both the variables."
   ]
  },
  {
   "cell_type": "code",
   "execution_count": 3,
   "id": "0394b2a4-9b8f-49a5-9ae7-e7e4773ad56e",
   "metadata": {},
   "outputs": [],
   "source": [
    "import numpy as np"
   ]
  },
  {
   "cell_type": "code",
   "execution_count": 20,
   "id": "beb366d4-9fbd-4132-9e4d-c86556f10e69",
   "metadata": {},
   "outputs": [],
   "source": [
    "list_ = ['1', '2', '3', '4', '5']\n",
    "array_list = np.array(object = list_)"
   ]
  },
  {
   "cell_type": "code",
   "execution_count": 21,
   "id": "070235f2-5781-43e4-95b3-f786fa260d26",
   "metadata": {},
   "outputs": [],
   "source": [
    "# Ans -1. There is a difference between both the variable.\n",
    "#2. list_ is a list of objects created in a python \n",
    "# 3. array_list is a varible which is a n-diemnesional array which has all elemnets of list_ variable.\n",
    "# following way we can get the data type of both the variables"
   ]
  },
  {
   "cell_type": "code",
   "execution_count": 14,
   "id": "c7669fc8-0267-4d0a-8a5b-726308875bec",
   "metadata": {},
   "outputs": [
    {
     "data": {
      "text/plain": [
       "array(['1', '2', '3', '4', '5'], dtype='<U1')"
      ]
     },
     "execution_count": 14,
     "metadata": {},
     "output_type": "execute_result"
    }
   ],
   "source": [
    "array_list"
   ]
  },
  {
   "cell_type": "code",
   "execution_count": 22,
   "id": "29f15a7f-9afa-4c94-a257-21601d32a666",
   "metadata": {},
   "outputs": [
    {
     "data": {
      "text/plain": [
       "dtype('<U1')"
      ]
     },
     "execution_count": 22,
     "metadata": {},
     "output_type": "execute_result"
    }
   ],
   "source": [
    "array_list.dtype # it is a n-dimensional array"
   ]
  },
  {
   "cell_type": "code",
   "execution_count": 23,
   "id": "5eb98d1d-d6a5-4849-9ec3-86439add31a7",
   "metadata": {},
   "outputs": [
    {
     "data": {
      "text/plain": [
       "list"
      ]
     },
     "execution_count": 23,
     "metadata": {},
     "output_type": "execute_result"
    }
   ],
   "source": [
    "type(list_) # data type is list"
   ]
  },
  {
   "cell_type": "code",
   "execution_count": 19,
   "id": "784df5c3-e595-43cd-8439-e11a8df030d9",
   "metadata": {},
   "outputs": [
    {
     "data": {
      "text/plain": [
       "numpy.ndarray"
      ]
     },
     "execution_count": 19,
     "metadata": {},
     "output_type": "execute_result"
    }
   ],
   "source": [
    "type(array_list)"
   ]
  },
  {
   "cell_type": "code",
   "execution_count": 24,
   "id": "6c3ebf45-0d13-4190-b5b7-8fb17024db30",
   "metadata": {},
   "outputs": [],
   "source": [
    "# Q2. Write a code to print the data type of each and every element of both the variables list_ and arra_list."
   ]
  },
  {
   "cell_type": "code",
   "execution_count": 35,
   "id": "76878756-3c6a-452c-9b1f-ac975d4a5527",
   "metadata": {},
   "outputs": [
    {
     "name": "stdout",
     "output_type": "stream",
     "text": [
      "<class 'str'>\n",
      "<class 'str'>\n",
      "<class 'str'>\n",
      "<class 'str'>\n",
      "<class 'str'>\n"
     ]
    }
   ],
   "source": [
    "for i in list_:\n",
    "    print(type(i))    "
   ]
  },
  {
   "cell_type": "code",
   "execution_count": 37,
   "id": "cf45217d-dd43-4665-a49d-b349e57d34d8",
   "metadata": {},
   "outputs": [
    {
     "name": "stdout",
     "output_type": "stream",
     "text": [
      "<U1\n",
      "<U1\n",
      "<U1\n",
      "<U1\n",
      "<U1\n"
     ]
    }
   ],
   "source": [
    "for i in np.nditer(array_list):\n",
    "    print(i.dtype)"
   ]
  },
  {
   "cell_type": "code",
   "execution_count": 38,
   "id": "1a704960-7052-44d6-8070-fe2ac32fc3b7",
   "metadata": {},
   "outputs": [
    {
     "name": "stdout",
     "output_type": "stream",
     "text": [
      "<class 'numpy.ndarray'>\n",
      "<class 'numpy.ndarray'>\n",
      "<class 'numpy.ndarray'>\n",
      "<class 'numpy.ndarray'>\n",
      "<class 'numpy.ndarray'>\n"
     ]
    }
   ],
   "source": [
    "for i in np.nditer(array_list):\n",
    "    print(type(i))"
   ]
  },
  {
   "cell_type": "code",
   "execution_count": 43,
   "id": "8dbf559c-a5de-4b73-a31a-eb6ecd6b77a3",
   "metadata": {},
   "outputs": [],
   "source": [
    "# Q3. Considering the following changes in the variable, array_list:"
   ]
  },
  {
   "cell_type": "code",
   "execution_count": 39,
   "id": "54749205-7b36-4e76-9778-d51426d88fe4",
   "metadata": {},
   "outputs": [],
   "source": [
    "array_list = np.array(object = list_, dtype = int)"
   ]
  },
  {
   "cell_type": "code",
   "execution_count": 44,
   "id": "3ebdd58f-cc42-4f22-9cdd-bdefeb8bb7a9",
   "metadata": {},
   "outputs": [],
   "source": [
    "# Will there be any difference in the data type of the elements present in both the variables, list_ and arra_list? \n",
    "# If so then print the data types of each and every element present in both the variables, list_ and arra_list."
   ]
  },
  {
   "cell_type": "code",
   "execution_count": 45,
   "id": "860dc63f-e554-4a7f-9f7d-1f7adbf0a230",
   "metadata": {},
   "outputs": [],
   "source": [
    "# Ans - by adding dtype = int in the above code, we are forcefully converting the datatype of all elements in array_list to integers."
   ]
  },
  {
   "cell_type": "code",
   "execution_count": 46,
   "id": "9c609ec8-01ca-4eca-8d29-173c7488ae3a",
   "metadata": {},
   "outputs": [],
   "source": [
    "# code for checking the data type post the changes"
   ]
  },
  {
   "cell_type": "code",
   "execution_count": 42,
   "id": "0c286620-4dc4-4b7b-96a5-fa39634b3e14",
   "metadata": {},
   "outputs": [
    {
     "name": "stdout",
     "output_type": "stream",
     "text": [
      "int64\n",
      "int64\n",
      "int64\n",
      "int64\n",
      "int64\n"
     ]
    }
   ],
   "source": [
    "for i in np.nditer(array_list):\n",
    "    print(i.dtype)"
   ]
  },
  {
   "cell_type": "code",
   "execution_count": 41,
   "id": "7b11f6af-f420-4554-b2eb-1f3535b958c4",
   "metadata": {},
   "outputs": [
    {
     "data": {
      "text/plain": [
       "dtype('int64')"
      ]
     },
     "execution_count": 41,
     "metadata": {},
     "output_type": "execute_result"
    }
   ],
   "source": [
    "array_list.dtype "
   ]
  },
  {
   "cell_type": "code",
   "execution_count": 47,
   "id": "c1219234-b828-42b3-a3bb-73224e4c3842",
   "metadata": {},
   "outputs": [],
   "source": [
    "import numpy as np\n",
    "num_list = [ [ 1 , 2 , 3 ] , [ 4 , 5 , 6 ] ]\n",
    "num_array = np.array(object = num_list)"
   ]
  },
  {
   "cell_type": "code",
   "execution_count": 48,
   "id": "b34f89d7-c5bc-45f7-826d-9b7bbb2d6c7f",
   "metadata": {},
   "outputs": [],
   "source": [
    "# Q4. Write a code to find the following characteristics of variable, num_array:\n",
    "# (i) shape\n",
    "# (ii) size"
   ]
  },
  {
   "cell_type": "code",
   "execution_count": 49,
   "id": "626978cf-12e5-4ca4-9c35-402a2d2629bd",
   "metadata": {},
   "outputs": [
    {
     "data": {
      "text/plain": [
       "array([[1, 2, 3],\n",
       "       [4, 5, 6]])"
      ]
     },
     "execution_count": 49,
     "metadata": {},
     "output_type": "execute_result"
    }
   ],
   "source": [
    "num_array"
   ]
  },
  {
   "cell_type": "code",
   "execution_count": 50,
   "id": "577f7da0-0494-4ad9-991e-115c3c6ceaff",
   "metadata": {},
   "outputs": [
    {
     "data": {
      "text/plain": [
       "(2, 3)"
      ]
     },
     "execution_count": 50,
     "metadata": {},
     "output_type": "execute_result"
    }
   ],
   "source": [
    "num_array.shape"
   ]
  },
  {
   "cell_type": "code",
   "execution_count": 51,
   "id": "31634470-7bb4-4835-9048-d09e20289223",
   "metadata": {},
   "outputs": [],
   "source": [
    "# two rows and 3 columns"
   ]
  },
  {
   "cell_type": "code",
   "execution_count": 52,
   "id": "4d42a68f-1a98-45bd-8597-0410f952026e",
   "metadata": {},
   "outputs": [
    {
     "data": {
      "text/plain": [
       "6"
      ]
     },
     "execution_count": 52,
     "metadata": {},
     "output_type": "execute_result"
    }
   ],
   "source": [
    "num_array.size"
   ]
  },
  {
   "cell_type": "code",
   "execution_count": 53,
   "id": "36f750a0-25df-406b-a327-0cd0c197cd2e",
   "metadata": {},
   "outputs": [],
   "source": [
    "# gives the total no. of elements in the array"
   ]
  },
  {
   "cell_type": "code",
   "execution_count": 54,
   "id": "81462434-e238-44dc-877b-172371019fc1",
   "metadata": {},
   "outputs": [],
   "source": [
    "# Q5. Write a code to create numpy array of 3*3 matrix containing zeros only, using a numpy array creation function."
   ]
  },
  {
   "cell_type": "code",
   "execution_count": 55,
   "id": "0a60e228-df99-43ef-92e9-3048cc97136c",
   "metadata": {},
   "outputs": [],
   "source": [
    "arr1 = np.zeros((3,3))"
   ]
  },
  {
   "cell_type": "code",
   "execution_count": 56,
   "id": "506dad8e-65b8-459d-ab42-63eadfafe0fb",
   "metadata": {},
   "outputs": [
    {
     "data": {
      "text/plain": [
       "array([[0., 0., 0.],\n",
       "       [0., 0., 0.],\n",
       "       [0., 0., 0.]])"
      ]
     },
     "execution_count": 56,
     "metadata": {},
     "output_type": "execute_result"
    }
   ],
   "source": [
    "arr1"
   ]
  },
  {
   "cell_type": "code",
   "execution_count": 57,
   "id": "5a490d1c-6106-43ef-b8fa-779775fae1ae",
   "metadata": {},
   "outputs": [],
   "source": [
    "# Q6. Create an identity matrix of shape (5,5) using numpy functions?"
   ]
  },
  {
   "cell_type": "code",
   "execution_count": 60,
   "id": "93165180-dda7-4946-a0e1-180033031225",
   "metadata": {},
   "outputs": [],
   "source": [
    "arr2 = np.identity(5)"
   ]
  },
  {
   "cell_type": "code",
   "execution_count": 61,
   "id": "e4c452d0-1d60-407b-a103-cbe60e8ca85a",
   "metadata": {},
   "outputs": [
    {
     "data": {
      "text/plain": [
       "array([[1., 0., 0., 0., 0.],\n",
       "       [0., 1., 0., 0., 0.],\n",
       "       [0., 0., 1., 0., 0.],\n",
       "       [0., 0., 0., 1., 0.],\n",
       "       [0., 0., 0., 0., 1.]])"
      ]
     },
     "execution_count": 61,
     "metadata": {},
     "output_type": "execute_result"
    }
   ],
   "source": [
    "arr2"
   ]
  },
  {
   "cell_type": "code",
   "execution_count": null,
   "id": "b59e1382-468c-490f-a2d7-fd620567cc11",
   "metadata": {},
   "outputs": [],
   "source": []
  }
 ],
 "metadata": {
  "kernelspec": {
   "display_name": "Python 3 (ipykernel)",
   "language": "python",
   "name": "python3"
  },
  "language_info": {
   "codemirror_mode": {
    "name": "ipython",
    "version": 3
   },
   "file_extension": ".py",
   "mimetype": "text/x-python",
   "name": "python",
   "nbconvert_exporter": "python",
   "pygments_lexer": "ipython3",
   "version": "3.10.8"
  }
 },
 "nbformat": 4,
 "nbformat_minor": 5
}
