{
 "cells": [
  {
   "cell_type": "code",
   "execution_count": 2,
   "id": "7b1b7e42-4164-4468-a45a-5f9884f45f8b",
   "metadata": {},
   "outputs": [],
   "source": [
    "\"\"\"Q1. Create a python program to sort the given list of tuples based on integer value using a\n",
    "lambda function.\"\"\"\n",
    "list = [('Sachin Tendulkar', 34357), ('Ricky Ponting', 27483), ('Jack Kallis', 25534), ('Virat Kohli', 24936)]"
   ]
  },
  {
   "cell_type": "code",
   "execution_count": 3,
   "id": "bcc1e419-ff53-49d2-85c5-464959bb1527",
   "metadata": {},
   "outputs": [
    {
     "name": "stdout",
     "output_type": "stream",
     "text": [
      "[('Virat Kohli', 24936), ('Jack Kallis', 25534), ('Ricky Ponting', 27483), ('Sachin Tendulkar', 34357)]\n"
     ]
    }
   ],
   "source": [
    "list.sort(key = lambda x: x[1]) \n",
    "print(list)        "
   ]
  },
  {
   "cell_type": "code",
   "execution_count": 1,
   "id": "7f58c4d1-e229-4be1-a8b6-378b82c13d60",
   "metadata": {},
   "outputs": [],
   "source": [
    "\"\"\"Q2. Write a Python Program to find the squares of all the numbers in the given list of integers using\n",
    "lambda and map functions.\"\"\"\n",
    "l1 = [1, 2, 3, 4, 5, 6, 7, 8, 9, 10]"
   ]
  },
  {
   "cell_type": "code",
   "execution_count": 2,
   "id": "27cccd2d-c3f3-4eff-820b-162f503e8241",
   "metadata": {},
   "outputs": [
    {
     "data": {
      "text/plain": [
       "[1, 4, 9, 16, 25, 36, 49, 64, 81, 100]"
      ]
     },
     "execution_count": 2,
     "metadata": {},
     "output_type": "execute_result"
    }
   ],
   "source": [
    "list(map(lambda x : x**2 , l1))"
   ]
  },
  {
   "cell_type": "code",
   "execution_count": 3,
   "id": "2515f755-b060-483a-8af4-a68840b853c7",
   "metadata": {},
   "outputs": [],
   "source": [
    "\"\"\"Q3. Write a python program to convert the given list of integers into a tuple of strings. Use map and\n",
    "lambda functions\"\"\"\n",
    "str1 = [1, 2, 3, 4, 5, 6, 7, 8, 9, 10]\n",
    "# Expected output: ('1', '2', '3', '4', '5', '6', '7', '8', '9', '10')"
   ]
  },
  {
   "cell_type": "code",
   "execution_count": 13,
   "id": "f139ba4b-bfd1-43d4-87da-9d514172ea0f",
   "metadata": {},
   "outputs": [
    {
     "name": "stdout",
     "output_type": "stream",
     "text": [
      "('1', '2', '3', '4', '5', '6', '7', '8', '9', '10')\n"
     ]
    }
   ],
   "source": [
    "op = map(str, str1) # converting integers into string first\n",
    "expected_op = tuple(map(lambda x: x, op)) # typecasting the list into tuple\n",
    "print(expected_op)"
   ]
  },
  {
   "cell_type": "code",
   "execution_count": 40,
   "id": "59340e7a-d64b-4bad-8bd0-42c8ad4b6778",
   "metadata": {},
   "outputs": [],
   "source": [
    "\"\"\"Q4. Write a python program using reduce function to compute the product of a list containing numbers\n",
    "from 1 to 25.\"\"\"\n",
    "l = [1, 2, 3, 4,5, 6,7,8,9,10,11,12,13,14,15,16,17,18,19,20,21,22,23,24,25]\n",
    "    "
   ]
  },
  {
   "cell_type": "code",
   "execution_count": 41,
   "id": "13a8eff0-5c49-4dc7-b594-e9b043228c7e",
   "metadata": {},
   "outputs": [
    {
     "data": {
      "text/plain": [
       "15511210043330985984000000"
      ]
     },
     "execution_count": 41,
     "metadata": {},
     "output_type": "execute_result"
    }
   ],
   "source": [
    "# importing reduce from function tools library of python\n",
    "from functools import reduce\n",
    "reduce(lambda x,y: x*y, l)"
   ]
  },
  {
   "cell_type": "code",
   "execution_count": 1,
   "id": "849ef8af-956c-42ca-8714-671428a19d69",
   "metadata": {},
   "outputs": [],
   "source": [
    "\"\"\"Q5. Write a python program to filter the numbers in a given list that are divisible by 2 and 3 using the\n",
    "filter function.\"\"\"\n",
    "list1 = [2, 3, 6, 9, 27, 60, 90, 120, 55, 46]"
   ]
  },
  {
   "cell_type": "code",
   "execution_count": 2,
   "id": "d01ffda7-a43a-474e-892b-a0642a863f2c",
   "metadata": {},
   "outputs": [
    {
     "data": {
      "text/plain": [
       "[2, 3, 6, 9, 27, 60, 90, 120, 46]"
      ]
     },
     "execution_count": 2,
     "metadata": {},
     "output_type": "execute_result"
    }
   ],
   "source": [
    "list(filter(lambda x : x % 2 == 0 or x % 3 == 0, list1))"
   ]
  },
  {
   "cell_type": "code",
   "execution_count": 3,
   "id": "720bcf9e-f19f-43cf-94bb-46e8efb16174",
   "metadata": {},
   "outputs": [],
   "source": [
    "\"\"\"Q6. Write a python program to find palindromes in the given list of strings using lambda and filter\n",
    "function.\"\"\"\n",
    "# \n",
    "l4 = ['python', 'php', 'aba', 'radar', 'level']"
   ]
  },
  {
   "cell_type": "code",
   "execution_count": 4,
   "id": "276f70e0-9193-4ef7-82b2-a68968e71911",
   "metadata": {},
   "outputs": [
    {
     "data": {
      "text/plain": [
       "['php', 'aba', 'radar', 'level']"
      ]
     },
     "execution_count": 4,
     "metadata": {},
     "output_type": "execute_result"
    }
   ],
   "source": [
    "list(filter(lambda x : x == x[::-1], l4))"
   ]
  },
  {
   "cell_type": "code",
   "execution_count": null,
   "id": "25fe4cc8-b6ab-46a0-b862-a06f5be76553",
   "metadata": {},
   "outputs": [],
   "source": []
  }
 ],
 "metadata": {
  "kernelspec": {
   "display_name": "Python 3 (ipykernel)",
   "language": "python",
   "name": "python3"
  },
  "language_info": {
   "codemirror_mode": {
    "name": "ipython",
    "version": 3
   },
   "file_extension": ".py",
   "mimetype": "text/x-python",
   "name": "python",
   "nbconvert_exporter": "python",
   "pygments_lexer": "ipython3",
   "version": "3.10.8"
  }
 },
 "nbformat": 4,
 "nbformat_minor": 5
}
