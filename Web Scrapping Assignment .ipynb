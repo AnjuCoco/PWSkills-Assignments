{
 "cells": [
  {
   "cell_type": "code",
   "execution_count": 1,
   "id": "d346fd43-99ab-44c6-9a0b-ee9e4fe6b53d",
   "metadata": {},
   "outputs": [],
   "source": [
    "# Q1 What is Web Scraping? Why is it Used? Give three areas where Web Scraping is used to get data."
   ]
  },
  {
   "cell_type": "code",
   "execution_count": 3,
   "id": "841e165f-050f-408a-b0d9-8ba94c991360",
   "metadata": {},
   "outputs": [],
   "source": [
    "# Web scraping is the process to extract large amount of content and data from a website. \n",
    "# wherein it extracts underlying HTML code and, with it, data stored in a database. \n",
    "# The scraper can then replicate entire website content elsewhere."
   ]
  },
  {
   "cell_type": "code",
   "execution_count": 9,
   "id": "17389317-39e8-47fc-9e71-ab6614424c74",
   "metadata": {},
   "outputs": [],
   "source": [
    "# Why - \n",
    "# In today’s world, we have tons of unstructured data/information (mostly web data) available freely. \n",
    "# Sometimes the freely available data is easy to read and sometimes not. \n",
    "# No matter how your data is available, web scraping is very useful tool to transform unstructured data into \n",
    "# structured data that is easier to read & analyze.  \n",
    "# Data scraping has numerous applications across many industries—\n",
    "# including insurance, banking, finance, trading, eCommerce, sports, and digital marketing. \n",
    "# Data is also used to inform decision-making, generate leads and sales, manage risks, guide strategies, and create new products and services."
   ]
  },
  {
   "cell_type": "code",
   "execution_count": 5,
   "id": "36467ad1-f760-4521-9739-d44b35741ea7",
   "metadata": {},
   "outputs": [],
   "source": [
    "# areas where Web Scraping is used\n",
    "# 1. Price Intelligence \n",
    "# Price intelligence refers to monitoring a competitor’s prices and responding to their changes in pricing.\n",
    "# Effective price intelligence involves web scraping, with eCommerce sellers extracting product\n",
    "# and pricing information from other eCommerce websites to guide their pricing and marketing decisions.\\\n",
    "\n",
    "# 2. Lead Generation\n",
    "# Web scraping can help companies gather the correct contact information from their target market—\n",
    "# including names, job titles, email addresses, and cellphone numbers. \n",
    "# hen, they can reach out to these contacts and generate more leads and sales for their business.\n",
    "\n",
    "# Real Estate\n",
    "# You need web data extraction to generate the most up-to-date and accurate real estate listings.\n",
    "# to retrieve the most updated data about properties, sale prices, monthly rental income,\n",
    "# amenities, property agents, and other data points."
   ]
  },
  {
   "cell_type": "code",
   "execution_count": 6,
   "id": "e6f766ff-6209-4db3-acce-eb058e180743",
   "metadata": {},
   "outputs": [],
   "source": [
    "# Q2. What are the different methods used for Web Scraping?"
   ]
  },
  {
   "cell_type": "code",
   "execution_count": 7,
   "id": "151d2ec5-5221-489b-af8e-559b503ba509",
   "metadata": {},
   "outputs": [],
   "source": [
    "# Web Scraping Techniques - There are many different ways to perform web scraping to obtain data from websites. \n",
    "# Human copy-and-paste.\n",
    "# Manually copying and pasting data from a web page into a text file or spreadsheet \n",
    "# and it is the most basic form of web scraping. However, this is possible for scrapping small data from the websites\n",
    "\n",
    "# using online services, particular API’s \n",
    "\n",
    "# creating your code for web scraping from scratch either using python or any suitable language "
   ]
  },
  {
   "cell_type": "code",
   "execution_count": 8,
   "id": "de8156d7-6951-4173-8147-870eaef342e4",
   "metadata": {},
   "outputs": [],
   "source": [
    "# Q3. What is Beautiful Soup? Why is it used?"
   ]
  },
  {
   "cell_type": "code",
   "execution_count": 10,
   "id": "e1358cf5-c928-4da0-9376-14e4236ceb31",
   "metadata": {},
   "outputs": [],
   "source": [
    "# Beautiful Soup is a Python package for parsing HTML and XML documents. \n",
    "# It parses the unwanted data and helps to organize and format the messy web data by\n",
    "# fixing bad HTML and present to us in an easily-traversible XML structures.\n",
    "# i.e. it allows us to pull data out of HTML and XML documents.\n"
   ]
  },
  {
   "cell_type": "code",
   "execution_count": 11,
   "id": "ccd83518-a82f-4f36-8a5e-fcb0c3c8e5ed",
   "metadata": {},
   "outputs": [],
   "source": [
    "# Q4. Why is flask used in this Web Scraping project?"
   ]
  },
  {
   "cell_type": "code",
   "execution_count": 13,
   "id": "cf027a87-cfb8-4baa-bc02-c14ac56dcb2f",
   "metadata": {},
   "outputs": [],
   "source": [
    "# Flask is a lightweight framework to build websites quickly and easily. \n",
    "# With Flask's micro-framework, we can create a straightforward web interface to display the data we gather. \n",
    "# Flask can be used with any database like:- SQL and NoSQL."
   ]
  },
  {
   "cell_type": "code",
   "execution_count": 14,
   "id": "cd226f67-5469-4d47-a790-e71d80f25e5d",
   "metadata": {},
   "outputs": [],
   "source": [
    "# Q5. Write the names of AWS services used in this project. Also, explain the use of each service."
   ]
  },
  {
   "cell_type": "code",
   "execution_count": 15,
   "id": "633f4b91-403f-462d-be1c-46c83bec6c18",
   "metadata": {},
   "outputs": [],
   "source": [
    "# AWS CloudFront - \n",
    "# This service helps to improve website speed and access to cloud-based data. \n",
    "# CloudFront works as a Global Content Delivery Service (CDN) to deliver content efficiently to end users. \n",
    "# We will notice a significant increase in web page loading speed with this service. \n",
    "\n",
    "# AWS Beanstalk\n",
    "# AWS Beanstalk was created to help developers manage website infrastructure.\n",
    "# AWS Beanstalk offers autoscaling to ensure automatic updates of new software. And, this service runs automatically.\n",
    "# AWS Beanstalk really is a timesaver. \n",
    "# It automates the setup, configuration, and provisioning of other AWS services and eliminate human errors\n"
   ]
  },
  {
   "cell_type": "code",
   "execution_count": null,
   "id": "31db5892-3537-4b9e-b7d7-d02a8bfc3aa3",
   "metadata": {},
   "outputs": [],
   "source": []
  }
 ],
 "metadata": {
  "kernelspec": {
   "display_name": "Python 3 (ipykernel)",
   "language": "python",
   "name": "python3"
  },
  "language_info": {
   "codemirror_mode": {
    "name": "ipython",
    "version": 3
   },
   "file_extension": ".py",
   "mimetype": "text/x-python",
   "name": "python",
   "nbconvert_exporter": "python",
   "pygments_lexer": "ipython3",
   "version": "3.10.8"
  }
 },
 "nbformat": 4,
 "nbformat_minor": 5
}
