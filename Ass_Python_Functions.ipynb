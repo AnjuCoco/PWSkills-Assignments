{
 "cells": [
  {
   "cell_type": "code",
   "execution_count": 2,
   "id": "47481a14-e988-4ca3-a43a-5de22636bbfd",
   "metadata": {},
   "outputs": [],
   "source": [
    "# Q1 Which keyword is used to create a function? Create a function to return a list of\n",
    "# odd numbers in the range of 1 to 25.\n",
    "# A1 : keyword used is 'def' \n",
    "def odd(n):\n",
    "    l = []\n",
    "    for i in range(1,n):\n",
    "        if i % 2 != 0:\n",
    "            l.append(i)\n",
    "    return(l)"
   ]
  },
  {
   "cell_type": "code",
   "execution_count": 3,
   "id": "c2053dfa-34da-4807-9a8d-6de70d993423",
   "metadata": {},
   "outputs": [
    {
     "data": {
      "text/plain": [
       "[1, 3, 5, 7, 9, 11, 13, 15, 17, 19, 21, 23, 25]"
      ]
     },
     "execution_count": 3,
     "metadata": {},
     "output_type": "execute_result"
    }
   ],
   "source": [
    "odd(26)"
   ]
  },
  {
   "cell_type": "code",
   "execution_count": 1,
   "id": "302b2256-272d-42ae-8378-230013df275b",
   "metadata": {},
   "outputs": [],
   "source": [
    "# A2: *args in function allows you to pass as many arguments as you want and\n",
    "# **kwargs is used in some functions to access multiple keys and values  "
   ]
  },
  {
   "cell_type": "code",
   "execution_count": 2,
   "id": "1734362b-093d-4354-979a-6866580e07b8",
   "metadata": {},
   "outputs": [],
   "source": [
    "def test(*args):\n",
    "    return(args)"
   ]
  },
  {
   "cell_type": "code",
   "execution_count": 3,
   "id": "edd3f865-2653-41cb-9596-5ffe72f3ebfe",
   "metadata": {},
   "outputs": [
    {
     "data": {
      "text/plain": [
       "('PWskills', 4, 5, 99, 77.89, [1, 2, 3, 5])"
      ]
     },
     "execution_count": 3,
     "metadata": {},
     "output_type": "execute_result"
    }
   ],
   "source": [
    "test('PWskills', 4, 5, 99, 77.89, [1,2,3,5]) "
   ]
  },
  {
   "cell_type": "code",
   "execution_count": 4,
   "id": "7feb5c13-679f-4f0e-abef-0b8adfd989b8",
   "metadata": {},
   "outputs": [
    {
     "data": {
      "text/plain": [
       "((2, 3, 7),)"
      ]
     },
     "execution_count": 4,
     "metadata": {},
     "output_type": "execute_result"
    }
   ],
   "source": [
    "test((2, 3,7))"
   ]
  },
  {
   "cell_type": "code",
   "execution_count": 18,
   "id": "32379257-c949-4971-8026-63d01a3b38a0",
   "metadata": {},
   "outputs": [],
   "source": [
    "# example of **kwargs\n",
    "def test1(**kwargs):\n",
    "    return(kwargs)"
   ]
  },
  {
   "cell_type": "code",
   "execution_count": 16,
   "id": "31ef2642-29d2-40ed-b19e-d69a010aa17f",
   "metadata": {},
   "outputs": [],
   "source": [
    "def test1(**kwargs):\n",
    "    for i in kwargs.keys():\n",
    "        if type(kwargs[i]) == list:\n",
    "            return(i, kwargs[i])      "
   ]
  },
  {
   "cell_type": "code",
   "execution_count": 17,
   "id": "bbe05812-943a-4b0c-86f3-f04976809b31",
   "metadata": {},
   "outputs": [
    {
     "data": {
      "text/plain": [
       "('a', [3, 5, 2, 3])"
      ]
     },
     "execution_count": 17,
     "metadata": {},
     "output_type": "execute_result"
    }
   ],
   "source": [
    "test1(a = [3, 5, 2, 3], b = 'PWSkills', c = {55,78,67})"
   ]
  },
  {
   "cell_type": "code",
   "execution_count": 21,
   "id": "dd69f3e2-7253-41ee-b6c7-67672614c0b5",
   "metadata": {},
   "outputs": [],
   "source": [
    "def test1(**kwargs):\n",
    "    for i in kwargs.keys():\n",
    "        if type(kwargs[i]) == str:\n",
    "            return(i, kwargs[i])"
   ]
  },
  {
   "cell_type": "code",
   "execution_count": 22,
   "id": "6759641b-ad77-44e6-95d4-813a0f5ef28b",
   "metadata": {},
   "outputs": [
    {
     "data": {
      "text/plain": [
       "('b', 'PWSkills')"
      ]
     },
     "execution_count": 22,
     "metadata": {},
     "output_type": "execute_result"
    }
   ],
   "source": [
    "test1(a = [3, 5, 2, 3], b = 'PWSkills', c = {55,78,67})"
   ]
  },
  {
   "cell_type": "code",
   "execution_count": 23,
   "id": "7ec0424d-1738-4f24-9c0d-3b0cf3ca38fd",
   "metadata": {},
   "outputs": [
    {
     "data": {
      "text/plain": [
       "' Q3. What is an iterator in python? Name the method used to initialise the iterator object and the method\\nused for iteration. Use these methods to print the first five elements of the given list [2, 4, 6, 8, 10, 12, 14, 16,\\n18, 20].'"
      ]
     },
     "execution_count": 23,
     "metadata": {},
     "output_type": "execute_result"
    }
   ],
   "source": [
    "\"\"\" Q3. What is an iterator in python? Name the method used to initialise the iterator object and the method\n",
    "used for iteration. Use these methods to print the first five elements of the given list [2, 4, 6, 8, 10, 12, 14, 16,\n",
    "18, 20].\"\"\""
   ]
  },
  {
   "cell_type": "code",
   "execution_count": 10,
   "id": "784d75a3-b077-482c-8000-83318ca8715e",
   "metadata": {},
   "outputs": [],
   "source": [
    "#  iterator was not taught in the videos uploaded in the course. Answer is from google search.\n",
    "# A3: an iterator is an object that allows you to iterate over collections of data,\n",
    "# such as lists, tuples, dictionaries, and sets. \n",
    "# All these objects have a iter() method which is used to get an iterator\n",
    "# methods used are iter() and next()\n",
    "# The program is based on the theory from google"
   ]
  },
  {
   "cell_type": "code",
   "execution_count": 9,
   "id": "acc46fbb-4fbd-4308-9f5b-4d6237d21c35",
   "metadata": {},
   "outputs": [
    {
     "name": "stdout",
     "output_type": "stream",
     "text": [
      "2\n",
      "4\n",
      "6\n",
      "8\n",
      "10\n"
     ]
    }
   ],
   "source": [
    "list = [2, 4, 6, 8, 10, 12, 14, 16, 18, 20]\n",
    "iterator1 = iter(list)\n",
    "for i in range(5):\n",
    "    a = next(iterator1)\n",
    "    print(a)"
   ]
  },
  {
   "cell_type": "code",
   "execution_count": 1,
   "id": "831c1e06-e39a-486f-8b1b-fc2080b435db",
   "metadata": {},
   "outputs": [
    {
     "data": {
      "text/plain": [
       "'Q4. What is a generator function in python? Why yield keyword is used? Give an example of a generator\\nfunction.'"
      ]
     },
     "execution_count": 1,
     "metadata": {},
     "output_type": "execute_result"
    }
   ],
   "source": [
    "\"\"\"Q4. What is a generator function in python? Why yield keyword is used? Give an example of a generator\n",
    "function.\"\"\""
   ]
  },
  {
   "cell_type": "code",
   "execution_count": null,
   "id": "b0db6ea5-7e1b-4e1d-877f-169df3574175",
   "metadata": {},
   "outputs": [],
   "source": [
    "# Generator functions are the ones which returns iterator that produces sequence of values when iterated over\n",
    "# It is useful when we want to produce large sequence of values but don't want to store it all in memory\n",
    "# utilizes memory in a more efficient manner\n",
    "# yield is similar to return keyword. yield would iterate over a sequence, \n",
    "# but don't want to store the entire sequence in memory "
   ]
  },
  {
   "cell_type": "code",
   "execution_count": 2,
   "id": "fe3d9d38-e3a6-438d-98e7-97722d55ee56",
   "metadata": {},
   "outputs": [],
   "source": [
    "def first_five(l):\n",
    "    for i in range(0,5):\n",
    "        yield(i)"
   ]
  },
  {
   "cell_type": "code",
   "execution_count": 3,
   "id": "dee1357e-8161-48a8-88c0-0cd811cd98dd",
   "metadata": {},
   "outputs": [
    {
     "name": "stdout",
     "output_type": "stream",
     "text": [
      "2\n",
      "4\n",
      "6\n",
      "8\n",
      "10\n"
     ]
    }
   ],
   "source": [
    "list = [2, 4, 6, 8, 10, 12, 14, 16, 18, 20]\n",
    "for i in first_five(list):\n",
    "    print(list[i])"
   ]
  },
  {
   "cell_type": "code",
   "execution_count": 4,
   "id": "8f00254e-4832-42a5-bc85-f5d4ee6598f2",
   "metadata": {},
   "outputs": [
    {
     "data": {
      "text/plain": [
       "'Q5. Create a generator function for prime numbers less than 1000. Use the next() method to print the\\nfirst 20 prime numbers.'"
      ]
     },
     "execution_count": 4,
     "metadata": {},
     "output_type": "execute_result"
    }
   ],
   "source": [
    "\"\"\"Q5. Create a generator function for prime numbers less than 1000. Use the next() method to print the\n",
    "first 20 prime numbers.\"\"\""
   ]
  },
  {
   "cell_type": "code",
   "execution_count": 10,
   "id": "e3b4873b-ac10-47a4-8ddf-5b53844d6ad7",
   "metadata": {},
   "outputs": [],
   "source": [
    "def prime_num(num):\n",
    "    factor = 1\n",
    "    count = 1\n",
    "# range would exclude the upper limit\n",
    "    for i in range(2,num):\n",
    "        if num % i == 0:\n",
    "            i +=1\n",
    "            count +=1\n",
    "# since range has excluded the upper limit, the count will always be 1 for prime numbers\n",
    "    if count == 1:\n",
    "        yield(num)"
   ]
  },
  {
   "cell_type": "code",
   "execution_count": 11,
   "id": "c254b972-d0dd-4dd5-b563-9eb5e05d38ca",
   "metadata": {},
   "outputs": [
    {
     "name": "stdout",
     "output_type": "stream",
     "text": [
      "2\n"
     ]
    },
    {
     "ename": "StopIteration",
     "evalue": "",
     "output_type": "error",
     "traceback": [
      "\u001b[0;31m---------------------------------------------------------------------------\u001b[0m",
      "\u001b[0;31mStopIteration\u001b[0m                             Traceback (most recent call last)",
      "Cell \u001b[0;32mIn[11], line 6\u001b[0m\n\u001b[1;32m      4\u001b[0m iterator1 \u001b[38;5;241m=\u001b[39m \u001b[38;5;28miter\u001b[39m(l)\n\u001b[1;32m      5\u001b[0m \u001b[38;5;28;01mfor\u001b[39;00m i \u001b[38;5;129;01min\u001b[39;00m \u001b[38;5;28mrange\u001b[39m(\u001b[38;5;241m2\u001b[39m,\u001b[38;5;241m21\u001b[39m):\n\u001b[0;32m----> 6\u001b[0m     a \u001b[38;5;241m=\u001b[39m \u001b[38;5;28;43mnext\u001b[39;49m\u001b[43m(\u001b[49m\u001b[43miterator1\u001b[49m\u001b[43m)\u001b[49m\n\u001b[1;32m      7\u001b[0m     prime_num(a)\n\u001b[1;32m      8\u001b[0m     \u001b[38;5;28mprint\u001b[39m(a)\n",
      "\u001b[0;31mStopIteration\u001b[0m: "
     ]
    }
   ],
   "source": [
    "for i in range(2,1000):\n",
    "    l = []\n",
    "    l.append(i)\n",
    "    iterator1 = iter(l)\n",
    "    for i in range(2,21):\n",
    "        a = next(iterator1)\n",
    "        prime_num(a)\n",
    "        print(a)"
   ]
  },
  {
   "cell_type": "code",
   "execution_count": null,
   "id": "684882e1-16ca-4812-bc4e-db435abcb2ac",
   "metadata": {},
   "outputs": [],
   "source": []
  }
 ],
 "metadata": {
  "kernelspec": {
   "display_name": "Python 3 (ipykernel)",
   "language": "python",
   "name": "python3"
  },
  "language_info": {
   "codemirror_mode": {
    "name": "ipython",
    "version": 3
   },
   "file_extension": ".py",
   "mimetype": "text/x-python",
   "name": "python",
   "nbconvert_exporter": "python",
   "pygments_lexer": "ipython3",
   "version": "3.10.8"
  }
 },
 "nbformat": 4,
 "nbformat_minor": 5
}
